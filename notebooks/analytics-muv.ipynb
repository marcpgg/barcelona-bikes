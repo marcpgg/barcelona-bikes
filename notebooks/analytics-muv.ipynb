{
 "cells": [
  {
   "cell_type": "code",
   "execution_count": 1,
   "metadata": {},
   "outputs": [],
   "source": [
    "import pandas as pd\n",
    "import numpy as np\n",
    "import json\n",
    "import os\n",
    "import matplotlib.pyplot as plt  \n",
    "from pylab import plt\n",
    "plt.style.use('ggplot')\n",
    "\n",
    "%matplotlib inline\n",
    "\n"
   ]
  },
  {
   "cell_type": "markdown",
   "metadata": {},
   "source": [
    "### Reading data and sorting\n",
    "\n",
    "We read our csv and sort by platenumber/bike_id and then by date."
   ]
  },
  {
   "cell_type": "code",
   "execution_count": 2,
   "metadata": {},
   "outputs": [],
   "source": [
    "path = '../../ebikes/data/finaldata/muving_data.csv'\n",
    "df = pd.read_csv(path)\n",
    "\n"
   ]
  },
  {
   "cell_type": "code",
   "execution_count": 3,
   "metadata": {},
   "outputs": [],
   "source": [
    "df= df.sort_values(['plate','date'], ascending=[True,True]) "
   ]
  },
  {
   "cell_type": "code",
   "execution_count": 4,
   "metadata": {},
   "outputs": [],
   "source": [
    "#We'll be working on a copy of the dataframe\n",
    "dftest = df"
   ]
  },
  {
   "cell_type": "markdown",
   "metadata": {},
   "source": [
    "#### Verifying Number of bikes\n"
   ]
  },
  {
   "cell_type": "code",
   "execution_count": 5,
   "metadata": {},
   "outputs": [
    {
     "data": {
      "text/plain": [
       "333"
      ]
     },
     "execution_count": 5,
     "metadata": {},
     "output_type": "execute_result"
    }
   ],
   "source": [
    "dftest['plate'].nunique()"
   ]
  },
  {
   "cell_type": "code",
   "execution_count": 6,
   "metadata": {},
   "outputs": [
    {
     "data": {
      "text/html": [
       "<div>\n",
       "<style scoped>\n",
       "    .dataframe tbody tr th:only-of-type {\n",
       "        vertical-align: middle;\n",
       "    }\n",
       "\n",
       "    .dataframe tbody tr th {\n",
       "        vertical-align: top;\n",
       "    }\n",
       "\n",
       "    .dataframe thead th {\n",
       "        text-align: right;\n",
       "    }\n",
       "</style>\n",
       "<table border=\"1\" class=\"dataframe\">\n",
       "  <thead>\n",
       "    <tr style=\"text-align: right;\">\n",
       "      <th></th>\n",
       "      <th>lat</th>\n",
       "      <th>lon</th>\n",
       "      <th>charge</th>\n",
       "      <th>range</th>\n",
       "    </tr>\n",
       "  </thead>\n",
       "  <tbody>\n",
       "    <tr>\n",
       "      <th>count</th>\n",
       "      <td>354773.000000</td>\n",
       "      <td>354773.000000</td>\n",
       "      <td>354773.000000</td>\n",
       "      <td>354773.000000</td>\n",
       "    </tr>\n",
       "    <tr>\n",
       "      <th>mean</th>\n",
       "      <td>41.409237</td>\n",
       "      <td>2.164843</td>\n",
       "      <td>52.621628</td>\n",
       "      <td>34204.058511</td>\n",
       "    </tr>\n",
       "    <tr>\n",
       "      <th>std</th>\n",
       "      <td>0.022352</td>\n",
       "      <td>0.029334</td>\n",
       "      <td>26.037164</td>\n",
       "      <td>16924.156885</td>\n",
       "    </tr>\n",
       "    <tr>\n",
       "      <th>min</th>\n",
       "      <td>41.347752</td>\n",
       "      <td>2.106091</td>\n",
       "      <td>0.000000</td>\n",
       "      <td>0.000000</td>\n",
       "    </tr>\n",
       "    <tr>\n",
       "      <th>25%</th>\n",
       "      <td>41.393559</td>\n",
       "      <td>2.137819</td>\n",
       "      <td>29.000000</td>\n",
       "      <td>18850.000000</td>\n",
       "    </tr>\n",
       "    <tr>\n",
       "      <th>50%</th>\n",
       "      <td>41.408470</td>\n",
       "      <td>2.166896</td>\n",
       "      <td>49.000000</td>\n",
       "      <td>31850.000000</td>\n",
       "    </tr>\n",
       "    <tr>\n",
       "      <th>75%</th>\n",
       "      <td>41.427757</td>\n",
       "      <td>2.190782</td>\n",
       "      <td>76.000000</td>\n",
       "      <td>49400.000000</td>\n",
       "    </tr>\n",
       "    <tr>\n",
       "      <th>max</th>\n",
       "      <td>41.449001</td>\n",
       "      <td>2.220037</td>\n",
       "      <td>99.000000</td>\n",
       "      <td>64350.000000</td>\n",
       "    </tr>\n",
       "  </tbody>\n",
       "</table>\n",
       "</div>"
      ],
      "text/plain": [
       "                 lat            lon         charge          range\n",
       "count  354773.000000  354773.000000  354773.000000  354773.000000\n",
       "mean       41.409237       2.164843      52.621628   34204.058511\n",
       "std         0.022352       0.029334      26.037164   16924.156885\n",
       "min        41.347752       2.106091       0.000000       0.000000\n",
       "25%        41.393559       2.137819      29.000000   18850.000000\n",
       "50%        41.408470       2.166896      49.000000   31850.000000\n",
       "75%        41.427757       2.190782      76.000000   49400.000000\n",
       "max        41.449001       2.220037      99.000000   64350.000000"
      ]
     },
     "execution_count": 6,
     "metadata": {},
     "output_type": "execute_result"
    }
   ],
   "source": [
    "dftest.describe()"
   ]
  },
  {
   "cell_type": "code",
   "execution_count": 7,
   "metadata": {},
   "outputs": [
    {
     "data": {
      "text/html": [
       "<div>\n",
       "<style scoped>\n",
       "    .dataframe tbody tr th:only-of-type {\n",
       "        vertical-align: middle;\n",
       "    }\n",
       "\n",
       "    .dataframe tbody tr th {\n",
       "        vertical-align: top;\n",
       "    }\n",
       "\n",
       "    .dataframe thead th {\n",
       "        text-align: right;\n",
       "    }\n",
       "</style>\n",
       "<table border=\"1\" class=\"dataframe\">\n",
       "  <thead>\n",
       "    <tr style=\"text-align: right;\">\n",
       "      <th></th>\n",
       "      <th>date</th>\n",
       "      <th>plate</th>\n",
       "      <th>lat</th>\n",
       "      <th>lon</th>\n",
       "      <th>charge</th>\n",
       "      <th>range</th>\n",
       "    </tr>\n",
       "  </thead>\n",
       "  <tbody>\n",
       "    <tr>\n",
       "      <th>145</th>\n",
       "      <td>2018-09-27 04:53:00</td>\n",
       "      <td>8965KGR Scooter 125-B</td>\n",
       "      <td>41.420909</td>\n",
       "      <td>2.18103</td>\n",
       "      <td>65</td>\n",
       "      <td>42250.0</td>\n",
       "    </tr>\n",
       "    <tr>\n",
       "      <th>418</th>\n",
       "      <td>2018-09-27 04:58:00</td>\n",
       "      <td>8965KGR Scooter 125-B</td>\n",
       "      <td>41.420909</td>\n",
       "      <td>2.18103</td>\n",
       "      <td>65</td>\n",
       "      <td>42250.0</td>\n",
       "    </tr>\n",
       "    <tr>\n",
       "      <th>691</th>\n",
       "      <td>2018-09-27 05:03:00</td>\n",
       "      <td>8965KGR Scooter 125-B</td>\n",
       "      <td>41.420909</td>\n",
       "      <td>2.18103</td>\n",
       "      <td>65</td>\n",
       "      <td>42250.0</td>\n",
       "    </tr>\n",
       "    <tr>\n",
       "      <th>965</th>\n",
       "      <td>2018-09-27 05:08:00</td>\n",
       "      <td>8965KGR Scooter 125-B</td>\n",
       "      <td>41.420909</td>\n",
       "      <td>2.18103</td>\n",
       "      <td>65</td>\n",
       "      <td>42250.0</td>\n",
       "    </tr>\n",
       "    <tr>\n",
       "      <th>1239</th>\n",
       "      <td>2018-09-27 05:13:00</td>\n",
       "      <td>8965KGR Scooter 125-B</td>\n",
       "      <td>41.420909</td>\n",
       "      <td>2.18103</td>\n",
       "      <td>65</td>\n",
       "      <td>42250.0</td>\n",
       "    </tr>\n",
       "  </tbody>\n",
       "</table>\n",
       "</div>"
      ],
      "text/plain": [
       "                     date                   plate        lat      lon  charge  \\\n",
       "145   2018-09-27 04:53:00   8965KGR Scooter 125-B  41.420909  2.18103      65   \n",
       "418   2018-09-27 04:58:00   8965KGR Scooter 125-B  41.420909  2.18103      65   \n",
       "691   2018-09-27 05:03:00   8965KGR Scooter 125-B  41.420909  2.18103      65   \n",
       "965   2018-09-27 05:08:00   8965KGR Scooter 125-B  41.420909  2.18103      65   \n",
       "1239  2018-09-27 05:13:00   8965KGR Scooter 125-B  41.420909  2.18103      65   \n",
       "\n",
       "        range  \n",
       "145   42250.0  \n",
       "418   42250.0  \n",
       "691   42250.0  \n",
       "965   42250.0  \n",
       "1239  42250.0  "
      ]
     },
     "execution_count": 7,
     "metadata": {},
     "output_type": "execute_result"
    }
   ],
   "source": [
    "dftest.head()"
   ]
  },
  {
   "cell_type": "markdown",
   "metadata": {},
   "source": [
    "## Mapping (CARTO)\n",
    "\n",
    "We create a new dataframe (bike1) to store only relevant data for exporting and visualizing in CARTO."
   ]
  },
  {
   "cell_type": "code",
   "execution_count": 8,
   "metadata": {},
   "outputs": [],
   "source": [
    "bike_carto = df.loc[:, ['date', 'lat', 'lon', 'plate']]"
   ]
  },
  {
   "cell_type": "code",
   "execution_count": 10,
   "metadata": {},
   "outputs": [
    {
     "data": {
      "text/plain": [
       "'2018-09-27 04:53:00'"
      ]
     },
     "execution_count": 10,
     "metadata": {},
     "output_type": "execute_result"
    }
   ],
   "source": [
    "import cartoframes\n",
    "from cartoframes import Layer, BaseMap, styling\n",
    "\n",
    "BASE_URL = 'https://pggmrt.carto.com'\n",
    "API_KEY = 'XXXXXXXXXXXXXX'\n",
    "\n",
    "cc = cartoframes.CartoContext(base_url=BASE_URL,\n",
    "                              api_key=API_KEY)\n",
    "\n",
    "cc.write(bike_carto, 'bikes_data')\n",
    "\n",
    "#cc.map(Layer('bikes_data', time='date', color='net'))\n",
    "\n",
    "\n"
   ]
  },
  {
   "cell_type": "code",
   "execution_count": 11,
   "metadata": {},
   "outputs": [],
   "source": [
    "#bike_carto.to_csv('../../ebikes/data/datatest/final/bikes_carto.csv')"
   ]
  },
  {
   "cell_type": "markdown",
   "metadata": {},
   "source": [
    "### Heat map"
   ]
  },
  {
   "cell_type": "markdown",
   "metadata": {},
   "source": [
    "Extract from an animated heatmap over the course of a 3 days.\n",
    "Full interactive map available at https://pggmrt.carto.com\n",
    "\n",
    "![Animated](../CARTO_imgs/muv-heatmap.gif)\n"
   ]
  },
  {
   "cell_type": "markdown",
   "metadata": {},
   "source": [
    "### K-means Clustering\n",
    "\n",
    "Using CARTO we can perform a spatial clustering analysis that could be used to optimize and divide properly the city into a determined number of zones for each employee in charge of charging the bikes.\n",
    "\n",
    "CARTO's clustering algorithm is based in PostGIS k-means and ST_ClusterKMeans functions."
   ]
  },
  {
   "cell_type": "markdown",
   "metadata": {},
   "source": [
    "![Still](../CARTO_imgs/Bikes-2.png)"
   ]
  },
  {
   "cell_type": "markdown",
   "metadata": {},
   "source": [
    "## Analysis \n",
    "### Latitude/Longitude Delta\n",
    "\n",
    "Adding two new columns to our dataframe with the latitude and longitude variation from previous timeframe with the shift method. We then fill the NaN values with 0 .\n",
    "\n"
   ]
  },
  {
   "cell_type": "code",
   "execution_count": 12,
   "metadata": {},
   "outputs": [
    {
     "data": {
      "text/html": [
       "<div>\n",
       "<style scoped>\n",
       "    .dataframe tbody tr th:only-of-type {\n",
       "        vertical-align: middle;\n",
       "    }\n",
       "\n",
       "    .dataframe tbody tr th {\n",
       "        vertical-align: top;\n",
       "    }\n",
       "\n",
       "    .dataframe thead th {\n",
       "        text-align: right;\n",
       "    }\n",
       "</style>\n",
       "<table border=\"1\" class=\"dataframe\">\n",
       "  <thead>\n",
       "    <tr style=\"text-align: right;\">\n",
       "      <th></th>\n",
       "      <th>date</th>\n",
       "      <th>plate</th>\n",
       "      <th>lat</th>\n",
       "      <th>lon</th>\n",
       "      <th>charge</th>\n",
       "      <th>range</th>\n",
       "      <th>lat_diff</th>\n",
       "      <th>lon_diff</th>\n",
       "    </tr>\n",
       "  </thead>\n",
       "  <tbody>\n",
       "    <tr>\n",
       "      <th>145</th>\n",
       "      <td>2018-09-27 04:53:00</td>\n",
       "      <td>8965KGR Scooter 125-B</td>\n",
       "      <td>41.420909</td>\n",
       "      <td>2.18103</td>\n",
       "      <td>65</td>\n",
       "      <td>42250.0</td>\n",
       "      <td>0.0</td>\n",
       "      <td>0.0</td>\n",
       "    </tr>\n",
       "    <tr>\n",
       "      <th>418</th>\n",
       "      <td>2018-09-27 04:58:00</td>\n",
       "      <td>8965KGR Scooter 125-B</td>\n",
       "      <td>41.420909</td>\n",
       "      <td>2.18103</td>\n",
       "      <td>65</td>\n",
       "      <td>42250.0</td>\n",
       "      <td>0.0</td>\n",
       "      <td>0.0</td>\n",
       "    </tr>\n",
       "    <tr>\n",
       "      <th>691</th>\n",
       "      <td>2018-09-27 05:03:00</td>\n",
       "      <td>8965KGR Scooter 125-B</td>\n",
       "      <td>41.420909</td>\n",
       "      <td>2.18103</td>\n",
       "      <td>65</td>\n",
       "      <td>42250.0</td>\n",
       "      <td>0.0</td>\n",
       "      <td>0.0</td>\n",
       "    </tr>\n",
       "    <tr>\n",
       "      <th>965</th>\n",
       "      <td>2018-09-27 05:08:00</td>\n",
       "      <td>8965KGR Scooter 125-B</td>\n",
       "      <td>41.420909</td>\n",
       "      <td>2.18103</td>\n",
       "      <td>65</td>\n",
       "      <td>42250.0</td>\n",
       "      <td>0.0</td>\n",
       "      <td>0.0</td>\n",
       "    </tr>\n",
       "    <tr>\n",
       "      <th>1239</th>\n",
       "      <td>2018-09-27 05:13:00</td>\n",
       "      <td>8965KGR Scooter 125-B</td>\n",
       "      <td>41.420909</td>\n",
       "      <td>2.18103</td>\n",
       "      <td>65</td>\n",
       "      <td>42250.0</td>\n",
       "      <td>0.0</td>\n",
       "      <td>0.0</td>\n",
       "    </tr>\n",
       "  </tbody>\n",
       "</table>\n",
       "</div>"
      ],
      "text/plain": [
       "                     date                   plate        lat      lon  charge  \\\n",
       "145   2018-09-27 04:53:00   8965KGR Scooter 125-B  41.420909  2.18103      65   \n",
       "418   2018-09-27 04:58:00   8965KGR Scooter 125-B  41.420909  2.18103      65   \n",
       "691   2018-09-27 05:03:00   8965KGR Scooter 125-B  41.420909  2.18103      65   \n",
       "965   2018-09-27 05:08:00   8965KGR Scooter 125-B  41.420909  2.18103      65   \n",
       "1239  2018-09-27 05:13:00   8965KGR Scooter 125-B  41.420909  2.18103      65   \n",
       "\n",
       "        range  lat_diff  lon_diff  \n",
       "145   42250.0       0.0       0.0  \n",
       "418   42250.0       0.0       0.0  \n",
       "691   42250.0       0.0       0.0  \n",
       "965   42250.0       0.0       0.0  \n",
       "1239  42250.0       0.0       0.0  "
      ]
     },
     "execution_count": 12,
     "metadata": {},
     "output_type": "execute_result"
    }
   ],
   "source": [
    "#biketest = bike1\n",
    "diff_lat = dftest['lat'] - dftest['lat'].shift(1)\n",
    "\n",
    "diff_lon = dftest['lon'] - dftest['lon'].shift(1)\n",
    "\n",
    "\n",
    "dftest['lat_diff'] = diff_lat\n",
    "dftest['lon_diff'] = diff_lon\n",
    "\n",
    "# We Fill NaN values resulting from the shift\n",
    "dftest.fillna(value=0, inplace=True)\n",
    "dftest.head()"
   ]
  },
  {
   "cell_type": "markdown",
   "metadata": {},
   "source": [
    "### Finding number of rides based on Geodata\n",
    "\n",
    "We are trying to estimate the number of rides taken by each bike, we will filter out those rows where the latitude or longitude changed substantially from the previous row (aka position change in the timeframe of 5 mins)\n",
    "\n",
    "In order to do that we need to find a threshold of latitude and longitude variation as we can get slightly different geoposition lectures from bikes that are currently parked and not moving.\n",
    " \n",
    "#### Degrees - meters conversion table\n",
    "\n",
    "| degrees [º] | distance [m]  |\n",
    "|-------------|---------------|\n",
    "| 0.01        | 1110          |\n",
    "| 0.001       | 111           |\n",
    "| 0.0001      | 11.1          |\n",
    "| 0.00001     | 1.11          |\n",
    "\n",
    "#### Estimations\n",
    "\n",
    "Mean GPS error on open sky has been said by ION and the US government to be between 4.9 and 5 meters. \n",
    "\n",
    "However we must take into consideration the vast amount of interferences a GPS device is under in an urban environment like Barcelona. \n",
    "Following the study by the University of Applied Sciences Zittau, Germany a positional error of 28 meters should be assumed in any location-based application. \n",
    "\n",
    "#### Threshold\n",
    "\n",
    "28 meters = 0.000252º\n",
    "\n",
    "#### References\n",
    "- [Institute of Navigation](https://www.ion.org/publications/abstract.cfm?articleID=13079)\n",
    "- [Official U.S. Government Global Positioning System Information](https://www.gps.gov/systems/gps/performance/accuracy/)\n",
    "- [Field trial on GPS Accuracy in a medium size city: The influence of built-up, University of Applied Sciences Zittau/Görlitz, Germany](http://wpnc.net/fileadmin/WPNC06/Proceedings/30_Field_trial_on_GPS_Accuracy_in_a_medium_size_city_The_influence_of_builtup.pdf)\n",
    "\n"
   ]
  },
  {
   "cell_type": "markdown",
   "metadata": {},
   "source": [
    "#### Find number of rides lasting 1 timeframe (5mins)"
   ]
  },
  {
   "cell_type": "code",
   "execution_count": 13,
   "metadata": {},
   "outputs": [
    {
     "name": "stdout",
     "output_type": "stream",
     "text": [
      "The number of rides is:  6307\n"
     ]
    }
   ],
   "source": [
    "moves_t = diff_lat[((abs(dftest['lat_diff']) > 0.000252) | (abs(dftest['lon_diff']) > 0.000252) ) ].count()\n",
    "print ('The number of rides is: ',moves_t)"
   ]
  },
  {
   "cell_type": "markdown",
   "metadata": {},
   "source": [
    "#### Shift() method fixing. \n",
    "\n",
    "Shift function creates a false positive with the first row of every new bike_id or plate number. \n",
    "We fix it by counting every row where the difference between the two rows (regular vs shift row) is greater than our threshold as well as the bike_id/plate is the same as the shifted row. \n"
   ]
  },
  {
   "cell_type": "code",
   "execution_count": 41,
   "metadata": {},
   "outputs": [
    {
     "name": "stdout",
     "output_type": "stream",
     "text": [
      "The  number of 5mins rides is:  5817\n"
     ]
    }
   ],
   "source": [
    "moves_1t = dftest[((abs(dftest['lat_diff']) > 0.000252) | (abs(dftest['lon_diff']) > 0.000252) ) & (dftest['plate'] == dftest['plate'].shift(1) )].count()\n",
    "print ('The  number of 5mins rides is: ', moves_1t[0])\n",
    "#movesdf = dftest[(abs(dftest['lat_diff']) > 0.000252) & (dftest['plate'] == dftest['plate'].shift(1) )]"
   ]
  },
  {
   "cell_type": "markdown",
   "metadata": {},
   "source": [
    "#### Calculate rides 2 timeframes (10mins) long"
   ]
  },
  {
   "cell_type": "code",
   "execution_count": 37,
   "metadata": {},
   "outputs": [
    {
     "name": "stdout",
     "output_type": "stream",
     "text": [
      "The  number of 10mins rides is:  347\n"
     ]
    }
   ],
   "source": [
    "moves_2t = dftest[((abs(dftest['lat_diff']) > 0.000252) | (abs(dftest['lon_diff']) > 0.000252) ) & ((abs(dftest['lat_diff'].shift(1))> 0.000252) | (abs(dftest['lon_diff']).shift(1) > 0.000252) ) & (dftest['plate'] == dftest['plate'].shift(1))].count()\n",
    "print('The  number of 10mins rides is: ',moves_2t[0])"
   ]
  },
  {
   "cell_type": "markdown",
   "metadata": {},
   "source": [
    "#### Calculate rides 3 timeframes (15mins) long"
   ]
  },
  {
   "cell_type": "code",
   "execution_count": 39,
   "metadata": {},
   "outputs": [
    {
     "name": "stdout",
     "output_type": "stream",
     "text": [
      "The  number of 15mins rides is:  18\n"
     ]
    }
   ],
   "source": [
    "moves_3t = dftest[((abs(dftest['lat_diff']) > 0.000252) | (abs(dftest['lon_diff']) > 0.000252) ) & ( (abs(dftest['lat_diff'].shift(1))> 0.000252) | (abs(dftest['lon_diff']).shift(1) > 0.000252) )& ( (abs(dftest['lat_diff'].shift(2))> 0.000252) | (abs(dftest['lon_diff']).shift(2) > 0.000252) ) & (dftest['plate'] == dftest['plate'].shift(1))].count()\n",
    "print('The  number of 15mins rides is: ',moves_3t[0])"
   ]
  },
  {
   "cell_type": "markdown",
   "metadata": {},
   "source": [
    "#### Calculate rides 4 timeframes (20mins) long"
   ]
  },
  {
   "cell_type": "code",
   "execution_count": 35,
   "metadata": {},
   "outputs": [
    {
     "name": "stdout",
     "output_type": "stream",
     "text": [
      "The  number of 20mins rides:  2\n"
     ]
    }
   ],
   "source": [
    "moves_4t = dftest[((abs(dftest['lat_diff']) > 0.000252) | (abs(dftest['lon_diff']) > 0.000252) ) & (abs(dftest['lat_diff'].shift(1))> 0.000252)& (abs(dftest['lat_diff'].shift(2))> 0.000252)  & (abs(dftest['lat_diff'].shift(3))> 0.000252)  & (dftest['plate'] == dftest['plate'].shift(1))].count()\n",
    "print('The  number of 20mins rides: ',moves_4t[0])"
   ]
  },
  {
   "cell_type": "markdown",
   "metadata": {},
   "source": [
    "### Plotting estimate revenue + average minute ride"
   ]
  },
  {
   "cell_type": "code",
   "execution_count": 48,
   "metadata": {},
   "outputs": [
    {
     "data": {
      "text/plain": [
       "<matplotlib.axes._subplots.AxesSubplot at 0x125f07240>"
      ]
     },
     "execution_count": 48,
     "metadata": {},
     "output_type": "execute_result"
    },
    {
     "data": {
      "image/png": "[encoded data removed]",
      "text/plain": [
       "<Figure size 432x288 with 1 Axes>"
      ]
     },
     "metadata": {},
     "output_type": "display_data"
    },
    {
     "data": {
      "image/png": "[encoded data removed]",
      "text/plain": [
       "<Figure size 432x288 with 1 Axes>"
      ]
     },
     "metadata": {},
     "output_type": "display_data"
    }
   ],
   "source": [
    "dfminutes = pd.DataFrame({'0-10 min': [moves_1t[0]], '10-15 min': [moves_2t[0]],'15-20 min': [moves_3t[0]],'20+ min': [moves_4t[0]], })\n",
    "dfminutes = dfminutes[['0-10 min', '10-15 min', '15-20 min', '20+ min']].transpose()\n",
    "dfminutes.plot(kind='bar', title=' Time Frequency of rides ', legend=False)\n",
    "#ADD SCATTER REVENUE /CANDLESTICK MAX MIN MINUTES\n",
    "#dfminutes.plot()"
   ]
  },
  {
   "cell_type": "markdown",
   "metadata": {},
   "source": [
    "### Frequency and Timespan\n",
    "We convert our date/time string into a Pandas datetime Timestamp"
   ]
  },
  {
   "cell_type": "code",
   "execution_count": 19,
   "metadata": {
    "scrolled": true
   },
   "outputs": [
    {
     "data": {
      "text/html": [
       "<div>\n",
       "<style scoped>\n",
       "    .dataframe tbody tr th:only-of-type {\n",
       "        vertical-align: middle;\n",
       "    }\n",
       "\n",
       "    .dataframe tbody tr th {\n",
       "        vertical-align: top;\n",
       "    }\n",
       "\n",
       "    .dataframe thead th {\n",
       "        text-align: right;\n",
       "    }\n",
       "</style>\n",
       "<table border=\"1\" class=\"dataframe\">\n",
       "  <thead>\n",
       "    <tr style=\"text-align: right;\">\n",
       "      <th></th>\n",
       "      <th>date</th>\n",
       "      <th>plate</th>\n",
       "      <th>lat</th>\n",
       "      <th>lon</th>\n",
       "      <th>charge</th>\n",
       "      <th>range</th>\n",
       "      <th>lat_diff</th>\n",
       "      <th>lon_diff</th>\n",
       "      <th>datetime</th>\n",
       "    </tr>\n",
       "  </thead>\n",
       "  <tbody>\n",
       "    <tr>\n",
       "      <th>145</th>\n",
       "      <td>2018-09-27 04:53:00</td>\n",
       "      <td>8965KGR Scooter 125-B</td>\n",
       "      <td>41.420909</td>\n",
       "      <td>2.18103</td>\n",
       "      <td>65</td>\n",
       "      <td>42250.0</td>\n",
       "      <td>0.0</td>\n",
       "      <td>0.0</td>\n",
       "      <td>2018-09-27 04:53:00</td>\n",
       "    </tr>\n",
       "    <tr>\n",
       "      <th>418</th>\n",
       "      <td>2018-09-27 04:58:00</td>\n",
       "      <td>8965KGR Scooter 125-B</td>\n",
       "      <td>41.420909</td>\n",
       "      <td>2.18103</td>\n",
       "      <td>65</td>\n",
       "      <td>42250.0</td>\n",
       "      <td>0.0</td>\n",
       "      <td>0.0</td>\n",
       "      <td>2018-09-27 04:58:00</td>\n",
       "    </tr>\n",
       "    <tr>\n",
       "      <th>691</th>\n",
       "      <td>2018-09-27 05:03:00</td>\n",
       "      <td>8965KGR Scooter 125-B</td>\n",
       "      <td>41.420909</td>\n",
       "      <td>2.18103</td>\n",
       "      <td>65</td>\n",
       "      <td>42250.0</td>\n",
       "      <td>0.0</td>\n",
       "      <td>0.0</td>\n",
       "      <td>2018-09-27 05:03:00</td>\n",
       "    </tr>\n",
       "    <tr>\n",
       "      <th>965</th>\n",
       "      <td>2018-09-27 05:08:00</td>\n",
       "      <td>8965KGR Scooter 125-B</td>\n",
       "      <td>41.420909</td>\n",
       "      <td>2.18103</td>\n",
       "      <td>65</td>\n",
       "      <td>42250.0</td>\n",
       "      <td>0.0</td>\n",
       "      <td>0.0</td>\n",
       "      <td>2018-09-27 05:08:00</td>\n",
       "    </tr>\n",
       "    <tr>\n",
       "      <th>1239</th>\n",
       "      <td>2018-09-27 05:13:00</td>\n",
       "      <td>8965KGR Scooter 125-B</td>\n",
       "      <td>41.420909</td>\n",
       "      <td>2.18103</td>\n",
       "      <td>65</td>\n",
       "      <td>42250.0</td>\n",
       "      <td>0.0</td>\n",
       "      <td>0.0</td>\n",
       "      <td>2018-09-27 05:13:00</td>\n",
       "    </tr>\n",
       "  </tbody>\n",
       "</table>\n",
       "</div>"
      ],
      "text/plain": [
       "                     date                   plate        lat      lon  charge  \\\n",
       "145   2018-09-27 04:53:00   8965KGR Scooter 125-B  41.420909  2.18103      65   \n",
       "418   2018-09-27 04:58:00   8965KGR Scooter 125-B  41.420909  2.18103      65   \n",
       "691   2018-09-27 05:03:00   8965KGR Scooter 125-B  41.420909  2.18103      65   \n",
       "965   2018-09-27 05:08:00   8965KGR Scooter 125-B  41.420909  2.18103      65   \n",
       "1239  2018-09-27 05:13:00   8965KGR Scooter 125-B  41.420909  2.18103      65   \n",
       "\n",
       "        range  lat_diff  lon_diff            datetime  \n",
       "145   42250.0       0.0       0.0 2018-09-27 04:53:00  \n",
       "418   42250.0       0.0       0.0 2018-09-27 04:58:00  \n",
       "691   42250.0       0.0       0.0 2018-09-27 05:03:00  \n",
       "965   42250.0       0.0       0.0 2018-09-27 05:08:00  \n",
       "1239  42250.0       0.0       0.0 2018-09-27 05:13:00  "
      ]
     },
     "execution_count": 19,
     "metadata": {},
     "output_type": "execute_result"
    }
   ],
   "source": [
    "dftest['datetime'] = pd.to_datetime(dftest['date'])\n",
    "dftest.head()"
   ]
  },
  {
   "cell_type": "code",
   "execution_count": 30,
   "metadata": {},
   "outputs": [
    {
     "name": "stdout",
     "output_type": "stream",
     "text": [
      "Data from  6 days 12:18:00\n"
     ]
    }
   ],
   "source": [
    "print('Data from ',dftest['datetime'][len(dftest)-1] - dftest['datetime'][145])"
   ]
  },
  {
   "cell_type": "markdown",
   "metadata": {},
   "source": [
    "We then create a new dataframe only containing the rows representing each ride."
   ]
  },
  {
   "cell_type": "code",
   "execution_count": 21,
   "metadata": {},
   "outputs": [],
   "source": [
    "dfrides = dftest[((abs(dftest['lat_diff']) > 0.000252) | (abs(dftest['lon_diff']) > 0.000252) ) & (dftest['plate'] == dftest['plate'].shift(1) )]"
   ]
  },
  {
   "cell_type": "markdown",
   "metadata": {},
   "source": [
    "We add a day of the week column to our rides datframe for further analysis"
   ]
  },
  {
   "cell_type": "code",
   "execution_count": 23,
   "metadata": {},
   "outputs": [
    {
     "name": "stderr",
     "output_type": "stream",
     "text": [
      "/anaconda3/lib/python3.5/site-packages/ipykernel_launcher.py:1: SettingWithCopyWarning: \n",
      "A value is trying to be set on a copy of a slice from a DataFrame.\n",
      "Try using .loc[row_indexer,col_indexer] = value instead\n",
      "\n",
      "See the caveats in the documentation: http://pandas.pydata.org/pandas-docs/stable/indexing.html#indexing-view-versus-copy\n",
      "  \"\"\"Entry point for launching an IPython kernel.\n"
     ]
    }
   ],
   "source": [
    "dfrides['dayofweek'] = dfrides['datetime'].dt.day_name()"
   ]
  },
  {
   "cell_type": "code",
   "execution_count": 24,
   "metadata": {
    "scrolled": true
   },
   "outputs": [
    {
     "data": {
      "text/html": [
       "<div>\n",
       "<style scoped>\n",
       "    .dataframe tbody tr th:only-of-type {\n",
       "        vertical-align: middle;\n",
       "    }\n",
       "\n",
       "    .dataframe tbody tr th {\n",
       "        vertical-align: top;\n",
       "    }\n",
       "\n",
       "    .dataframe thead th {\n",
       "        text-align: right;\n",
       "    }\n",
       "</style>\n",
       "<table border=\"1\" class=\"dataframe\">\n",
       "  <thead>\n",
       "    <tr style=\"text-align: right;\">\n",
       "      <th></th>\n",
       "      <th>date</th>\n",
       "      <th>plate</th>\n",
       "      <th>lat</th>\n",
       "      <th>lon</th>\n",
       "      <th>charge</th>\n",
       "      <th>range</th>\n",
       "      <th>lat_diff</th>\n",
       "      <th>lon_diff</th>\n",
       "      <th>datetime</th>\n",
       "      <th>dayofweek</th>\n",
       "    </tr>\n",
       "  </thead>\n",
       "  <tbody>\n",
       "    <tr>\n",
       "      <th>6699</th>\n",
       "      <td>2018-09-27 06:58:00</td>\n",
       "      <td>8965KGR Scooter 125-B</td>\n",
       "      <td>41.434768</td>\n",
       "      <td>2.148421</td>\n",
       "      <td>55</td>\n",
       "      <td>35750.0</td>\n",
       "      <td>0.013859</td>\n",
       "      <td>-0.032609</td>\n",
       "      <td>2018-09-27 06:58:00</td>\n",
       "      <td>Thursday</td>\n",
       "    </tr>\n",
       "    <tr>\n",
       "      <th>26499</th>\n",
       "      <td>2018-09-27 13:50:00</td>\n",
       "      <td>8965KGR Scooter 125-B</td>\n",
       "      <td>41.420573</td>\n",
       "      <td>2.180462</td>\n",
       "      <td>50</td>\n",
       "      <td>32500.0</td>\n",
       "      <td>-0.014195</td>\n",
       "      <td>0.032041</td>\n",
       "      <td>2018-09-27 13:50:00</td>\n",
       "      <td>Thursday</td>\n",
       "    </tr>\n",
       "    <tr>\n",
       "      <th>41309</th>\n",
       "      <td>2018-09-27 19:26:00</td>\n",
       "      <td>8965KGR Scooter 125-B</td>\n",
       "      <td>41.422161</td>\n",
       "      <td>2.196218</td>\n",
       "      <td>46</td>\n",
       "      <td>29900.0</td>\n",
       "      <td>0.001588</td>\n",
       "      <td>0.015756</td>\n",
       "      <td>2018-09-27 19:26:00</td>\n",
       "      <td>Thursday</td>\n",
       "    </tr>\n",
       "    <tr>\n",
       "      <th>49326</th>\n",
       "      <td>2018-09-27 22:32:00</td>\n",
       "      <td>8965KGR Scooter 125-B</td>\n",
       "      <td>41.422238</td>\n",
       "      <td>2.181166</td>\n",
       "      <td>40</td>\n",
       "      <td>26000.0</td>\n",
       "      <td>0.000077</td>\n",
       "      <td>-0.015052</td>\n",
       "      <td>2018-09-27 22:32:00</td>\n",
       "      <td>Thursday</td>\n",
       "    </tr>\n",
       "    <tr>\n",
       "      <th>83021</th>\n",
       "      <td>2018-09-28 13:01:00</td>\n",
       "      <td>8965KGR Scooter 125-B</td>\n",
       "      <td>41.441993</td>\n",
       "      <td>2.197372</td>\n",
       "      <td>30</td>\n",
       "      <td>19500.0</td>\n",
       "      <td>0.019755</td>\n",
       "      <td>0.016206</td>\n",
       "      <td>2018-09-28 13:01:00</td>\n",
       "      <td>Friday</td>\n",
       "    </tr>\n",
       "  </tbody>\n",
       "</table>\n",
       "</div>"
      ],
      "text/plain": [
       "                      date                   plate        lat       lon  \\\n",
       "6699   2018-09-27 06:58:00   8965KGR Scooter 125-B  41.434768  2.148421   \n",
       "26499  2018-09-27 13:50:00   8965KGR Scooter 125-B  41.420573  2.180462   \n",
       "41309  2018-09-27 19:26:00   8965KGR Scooter 125-B  41.422161  2.196218   \n",
       "49326  2018-09-27 22:32:00   8965KGR Scooter 125-B  41.422238  2.181166   \n",
       "83021  2018-09-28 13:01:00   8965KGR Scooter 125-B  41.441993  2.197372   \n",
       "\n",
       "       charge    range  lat_diff  lon_diff            datetime dayofweek  \n",
       "6699       55  35750.0  0.013859 -0.032609 2018-09-27 06:58:00  Thursday  \n",
       "26499      50  32500.0 -0.014195  0.032041 2018-09-27 13:50:00  Thursday  \n",
       "41309      46  29900.0  0.001588  0.015756 2018-09-27 19:26:00  Thursday  \n",
       "49326      40  26000.0  0.000077 -0.015052 2018-09-27 22:32:00  Thursday  \n",
       "83021      30  19500.0  0.019755  0.016206 2018-09-28 13:01:00    Friday  "
      ]
     },
     "execution_count": 24,
     "metadata": {},
     "output_type": "execute_result"
    }
   ],
   "source": [
    "dfrides.head()"
   ]
  },
  {
   "cell_type": "markdown",
   "metadata": {},
   "source": [
    "#### Hourly Rides"
   ]
  },
  {
   "cell_type": "code",
   "execution_count": 25,
   "metadata": {},
   "outputs": [
    {
     "data": {
      "image/png": "[encoded data removed]",
      "text/plain": [
       "<Figure size 432x288 with 1 Axes>"
      ]
     },
     "metadata": {},
     "output_type": "display_data"
    }
   ],
   "source": [
    "hourly = dfrides['datetime'].dt.hour.value_counts().sort_index().plot(kind='bar', title='Hourly frequency of 5 minute Rides ')"
   ]
  },
  {
   "cell_type": "code",
   "execution_count": null,
   "metadata": {},
   "outputs": [],
   "source": []
  },
  {
   "cell_type": "markdown",
   "metadata": {},
   "source": [
    "#### Weekly Rides"
   ]
  },
  {
   "cell_type": "code",
   "execution_count": 26,
   "metadata": {},
   "outputs": [],
   "source": [
    "weekly = dfrides['dayofweek'].value_counts(sort=False)\n"
   ]
  },
  {
   "cell_type": "code",
   "execution_count": 27,
   "metadata": {},
   "outputs": [
    {
     "data": {
      "text/plain": [
       "<matplotlib.axes._subplots.AxesSubplot at 0x115f38668>"
      ]
     },
     "execution_count": 27,
     "metadata": {},
     "output_type": "execute_result"
    },
    {
     "data": {
      "image/png": "[encoded data removed]",
      "text/plain": [
       "<Figure size 432x288 with 1 Axes>"
      ]
     },
     "metadata": {},
     "output_type": "display_data"
    }
   ],
   "source": [
    "weekly =weekly.reindex(['Monday', 'Tuesday', 'Wednesday', 'Thursday', 'Friday',  'Sunday'])\n",
    "weekly.plot(kind='bar', title='Weekly frequency of 5 minute Rides ')"
   ]
  },
  {
   "cell_type": "code",
   "execution_count": null,
   "metadata": {},
   "outputs": [],
   "source": []
  },
  {
   "cell_type": "code",
   "execution_count": null,
   "metadata": {},
   "outputs": [],
   "source": []
  }
 ],
 "metadata": {
  "kernelspec": {
   "display_name": "Python 3",
   "language": "python",
   "name": "python3"
  },
  "language_info": {
   "codemirror_mode": {
    "name": "ipython",
    "version": 3
   },
   "file_extension": ".py",
   "mimetype": "text/x-python",
   "name": "python",
   "nbconvert_exporter": "python",
   "pygments_lexer": "ipython3",
   "version": "3.5.5"
  },
  "widgets": {
   "state": {},
   "version": "1.1.2"
  }
 },
 "nbformat": 4,
 "nbformat_minor": 2
}
