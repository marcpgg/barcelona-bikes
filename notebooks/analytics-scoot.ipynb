{
 "cells": [
  {
   "cell_type": "code",
   "execution_count": 1,
   "metadata": {},
   "outputs": [],
   "source": [
    "import pandas as pd\n",
    "import numpy as np\n",
    "import json\n",
    "import os\n",
    "import matplotlib.pyplot as plt  \n",
    "from pylab import plt\n",
    "plt.style.use('ggplot')\n",
    "\n",
    "%matplotlib inline\n",
    "\n"
   ]
  },
  {
   "cell_type": "markdown",
   "metadata": {},
   "source": [
    "### Reading data and sorting\n",
    "\n",
    "We read our csv and sort by platenumber/bike_id and then by date."
   ]
  },
  {
   "cell_type": "code",
   "execution_count": 2,
   "metadata": {},
   "outputs": [],
   "source": [
    "path = '../../ebikes/data/finaldata/scoot_data.csv'\n",
    "df = pd.read_csv(path)\n",
    "\n"
   ]
  },
  {
   "cell_type": "code",
   "execution_count": 7,
   "metadata": {},
   "outputs": [],
   "source": [
    "df= df.sort_values(['id','date'], ascending=[True,True]) "
   ]
  },
  {
   "cell_type": "code",
   "execution_count": 9,
   "metadata": {},
   "outputs": [
    {
     "data": {
      "text/html": [
       "<div>\n",
       "<style scoped>\n",
       "    .dataframe tbody tr th:only-of-type {\n",
       "        vertical-align: middle;\n",
       "    }\n",
       "\n",
       "    .dataframe tbody tr th {\n",
       "        vertical-align: top;\n",
       "    }\n",
       "\n",
       "    .dataframe thead th {\n",
       "        text-align: right;\n",
       "    }\n",
       "</style>\n",
       "<table border=\"1\" class=\"dataframe\">\n",
       "  <thead>\n",
       "    <tr style=\"text-align: right;\">\n",
       "      <th></th>\n",
       "      <th>date</th>\n",
       "      <th>id</th>\n",
       "      <th>lat</th>\n",
       "      <th>lon</th>\n",
       "      <th>charge</th>\n",
       "      <th>type</th>\n",
       "    </tr>\n",
       "  </thead>\n",
       "  <tbody>\n",
       "    <tr>\n",
       "      <th>21</th>\n",
       "      <td>2018-09-27 04:52:00</td>\n",
       "      <td>1</td>\n",
       "      <td>41.415217</td>\n",
       "      <td>2.204912</td>\n",
       "      <td>100.0</td>\n",
       "      <td>scooter</td>\n",
       "    </tr>\n",
       "    <tr>\n",
       "      <th>632</th>\n",
       "      <td>2018-09-27 04:57:00</td>\n",
       "      <td>1</td>\n",
       "      <td>41.415217</td>\n",
       "      <td>2.204912</td>\n",
       "      <td>100.0</td>\n",
       "      <td>scooter</td>\n",
       "    </tr>\n",
       "    <tr>\n",
       "      <th>1269</th>\n",
       "      <td>2018-09-27 05:02:00</td>\n",
       "      <td>1</td>\n",
       "      <td>41.415150</td>\n",
       "      <td>2.204998</td>\n",
       "      <td>100.0</td>\n",
       "      <td>scooter</td>\n",
       "    </tr>\n",
       "    <tr>\n",
       "      <th>1892</th>\n",
       "      <td>2018-09-27 05:07:00</td>\n",
       "      <td>1</td>\n",
       "      <td>41.415150</td>\n",
       "      <td>2.204998</td>\n",
       "      <td>100.0</td>\n",
       "      <td>scooter</td>\n",
       "    </tr>\n",
       "    <tr>\n",
       "      <th>2520</th>\n",
       "      <td>2018-09-27 05:12:00</td>\n",
       "      <td>1</td>\n",
       "      <td>41.415150</td>\n",
       "      <td>2.204998</td>\n",
       "      <td>100.0</td>\n",
       "      <td>scooter</td>\n",
       "    </tr>\n",
       "  </tbody>\n",
       "</table>\n",
       "</div>"
      ],
      "text/plain": [
       "                     date  id        lat       lon  charge     type\n",
       "21    2018-09-27 04:52:00   1  41.415217  2.204912   100.0  scooter\n",
       "632   2018-09-27 04:57:00   1  41.415217  2.204912   100.0  scooter\n",
       "1269  2018-09-27 05:02:00   1  41.415150  2.204998   100.0  scooter\n",
       "1892  2018-09-27 05:07:00   1  41.415150  2.204998   100.0  scooter\n",
       "2520  2018-09-27 05:12:00   1  41.415150  2.204998   100.0  scooter"
      ]
     },
     "execution_count": 9,
     "metadata": {},
     "output_type": "execute_result"
    }
   ],
   "source": [
    "df.head()"
   ]
  },
  {
   "cell_type": "code",
   "execution_count": 8,
   "metadata": {},
   "outputs": [],
   "source": [
    "#We'll be working on a copy of the dataframe\n",
    "dftest = df"
   ]
  },
  {
   "cell_type": "markdown",
   "metadata": {},
   "source": [
    "#### Verifying Number of bikes\n"
   ]
  },
  {
   "cell_type": "code",
   "execution_count": 10,
   "metadata": {},
   "outputs": [
    {
     "data": {
      "text/plain": [
       "938"
      ]
     },
     "execution_count": 10,
     "metadata": {},
     "output_type": "execute_result"
    }
   ],
   "source": [
    "dftest['id'].nunique()"
   ]
  },
  {
   "cell_type": "code",
   "execution_count": 11,
   "metadata": {},
   "outputs": [
    {
     "data": {
      "text/html": [
       "<div>\n",
       "<style scoped>\n",
       "    .dataframe tbody tr th:only-of-type {\n",
       "        vertical-align: middle;\n",
       "    }\n",
       "\n",
       "    .dataframe tbody tr th {\n",
       "        vertical-align: top;\n",
       "    }\n",
       "\n",
       "    .dataframe thead th {\n",
       "        text-align: right;\n",
       "    }\n",
       "</style>\n",
       "<table border=\"1\" class=\"dataframe\">\n",
       "  <thead>\n",
       "    <tr style=\"text-align: right;\">\n",
       "      <th></th>\n",
       "      <th>id</th>\n",
       "      <th>lat</th>\n",
       "      <th>lon</th>\n",
       "      <th>charge</th>\n",
       "    </tr>\n",
       "  </thead>\n",
       "  <tbody>\n",
       "    <tr>\n",
       "      <th>count</th>\n",
       "      <td>1.013186e+06</td>\n",
       "      <td>1.013186e+06</td>\n",
       "      <td>1.013186e+06</td>\n",
       "      <td>1.013186e+06</td>\n",
       "    </tr>\n",
       "    <tr>\n",
       "      <th>mean</th>\n",
       "      <td>1.311129e+03</td>\n",
       "      <td>4.117506e+01</td>\n",
       "      <td>2.160026e+00</td>\n",
       "      <td>5.977555e+01</td>\n",
       "    </tr>\n",
       "    <tr>\n",
       "      <th>std</th>\n",
       "      <td>5.134973e+02</td>\n",
       "      <td>3.045277e+00</td>\n",
       "      <td>1.667275e-01</td>\n",
       "      <td>2.690819e+01</td>\n",
       "    </tr>\n",
       "    <tr>\n",
       "      <th>min</th>\n",
       "      <td>1.000000e+00</td>\n",
       "      <td>0.000000e+00</td>\n",
       "      <td>-3.639443e+00</td>\n",
       "      <td>0.000000e+00</td>\n",
       "    </tr>\n",
       "    <tr>\n",
       "      <th>25%</th>\n",
       "      <td>1.130000e+03</td>\n",
       "      <td>4.138354e+01</td>\n",
       "      <td>2.150245e+00</td>\n",
       "      <td>3.671000e+01</td>\n",
       "    </tr>\n",
       "    <tr>\n",
       "      <th>50%</th>\n",
       "      <td>1.416000e+03</td>\n",
       "      <td>4.140248e+01</td>\n",
       "      <td>2.179771e+00</td>\n",
       "      <td>6.155000e+01</td>\n",
       "    </tr>\n",
       "    <tr>\n",
       "      <th>75%</th>\n",
       "      <td>1.686000e+03</td>\n",
       "      <td>4.141516e+01</td>\n",
       "      <td>2.193887e+00</td>\n",
       "      <td>8.326000e+01</td>\n",
       "    </tr>\n",
       "    <tr>\n",
       "      <th>max</th>\n",
       "      <td>1.972000e+03</td>\n",
       "      <td>4.179355e+01</td>\n",
       "      <td>1.446258e+01</td>\n",
       "      <td>1.000000e+02</td>\n",
       "    </tr>\n",
       "  </tbody>\n",
       "</table>\n",
       "</div>"
      ],
      "text/plain": [
       "                 id           lat           lon        charge\n",
       "count  1.013186e+06  1.013186e+06  1.013186e+06  1.013186e+06\n",
       "mean   1.311129e+03  4.117506e+01  2.160026e+00  5.977555e+01\n",
       "std    5.134973e+02  3.045277e+00  1.667275e-01  2.690819e+01\n",
       "min    1.000000e+00  0.000000e+00 -3.639443e+00  0.000000e+00\n",
       "25%    1.130000e+03  4.138354e+01  2.150245e+00  3.671000e+01\n",
       "50%    1.416000e+03  4.140248e+01  2.179771e+00  6.155000e+01\n",
       "75%    1.686000e+03  4.141516e+01  2.193887e+00  8.326000e+01\n",
       "max    1.972000e+03  4.179355e+01  1.446258e+01  1.000000e+02"
      ]
     },
     "execution_count": 11,
     "metadata": {},
     "output_type": "execute_result"
    }
   ],
   "source": [
    "dftest.describe()"
   ]
  },
  {
   "cell_type": "code",
   "execution_count": null,
   "metadata": {},
   "outputs": [],
   "source": [
    "dftest.head()"
   ]
  },
  {
   "cell_type": "markdown",
   "metadata": {},
   "source": [
    "### Export clean data to CARTO\n",
    "\n",
    "We create a new dataframe (bike1) to store only relevant data for exporting and visualizing in CARTO."
   ]
  },
  {
   "cell_type": "code",
   "execution_count": 12,
   "metadata": {},
   "outputs": [],
   "source": [
    "bike_carto = df.loc[:, ['date', 'lat', 'lon', 'id']]"
   ]
  },
  {
   "cell_type": "code",
   "execution_count": null,
   "metadata": {},
   "outputs": [],
   "source": [
    "bike_carto.head()"
   ]
  },
  {
   "cell_type": "code",
   "execution_count": 13,
   "metadata": {},
   "outputs": [],
   "source": [
    "import cartoframes\n",
    "from cartoframes import Layer, BaseMap, styling\n",
    "\n",
    "BASE_URL = 'https://pggmrt.carto.com'\n",
    "API_KEY = 'XXXXXXXXXXXXXX'\n",
    "\n",
    "cc = cartoframes.CartoContext(base_url=BASE_URL,\n",
    "                              api_key=API_KEY)\n",
    "\n",
    "cc.write(bike_carto, 'bikes_data')\n",
    "\n",
    "#cc.map(Layer('bikes_data', time='date', color='net'))\n",
    "\n",
    "\n"
   ]
  },
  {
   "cell_type": "markdown",
   "metadata": {},
   "source": [
    "### Heat map\n",
    "\n",
    "Extract from an animated heatmap over the course of a 3 days.\n",
    "Full interactive map available at https://pggmrt.carto.com"
   ]
  },
  {
   "cell_type": "markdown",
   "metadata": {},
   "source": [
    "![Animated](../CARTO_imgs/scoot-heatmap.gif)\n"
   ]
  },
  {
   "cell_type": "markdown",
   "metadata": {},
   "source": [
    "### K-means Clustering\n",
    "\n",
    "Using CARTO we can perform a spatial clustering analysis that could be used to optimize and divide properly the city into a determined number of zones for each employee in charge of charging the bikes.\n",
    "\n",
    "CARTO's clustering algorithm is based in PostGIS k-means and ST_ClusterKMeans functions.\n",
    "\n"
   ]
  },
  {
   "cell_type": "markdown",
   "metadata": {},
   "source": [
    "![Still](../CARTO_imgs/5clusters.png)"
   ]
  },
  {
   "cell_type": "markdown",
   "metadata": {},
   "source": [
    "## Analysis \n",
    "### Latitude/Longitude Delta\n",
    "\n",
    "Adding two new columns to our dataframe with the latitude and longitude variation from previous timeframe with the shift method. We then fill the NaN values with 0 .\n",
    "\n"
   ]
  },
  {
   "cell_type": "code",
   "execution_count": 14,
   "metadata": {},
   "outputs": [
    {
     "data": {
      "text/html": [
       "<div>\n",
       "<style scoped>\n",
       "    .dataframe tbody tr th:only-of-type {\n",
       "        vertical-align: middle;\n",
       "    }\n",
       "\n",
       "    .dataframe tbody tr th {\n",
       "        vertical-align: top;\n",
       "    }\n",
       "\n",
       "    .dataframe thead th {\n",
       "        text-align: right;\n",
       "    }\n",
       "</style>\n",
       "<table border=\"1\" class=\"dataframe\">\n",
       "  <thead>\n",
       "    <tr style=\"text-align: right;\">\n",
       "      <th></th>\n",
       "      <th>date</th>\n",
       "      <th>id</th>\n",
       "      <th>lat</th>\n",
       "      <th>lon</th>\n",
       "      <th>charge</th>\n",
       "      <th>type</th>\n",
       "      <th>lat_diff</th>\n",
       "      <th>lon_diff</th>\n",
       "    </tr>\n",
       "  </thead>\n",
       "  <tbody>\n",
       "    <tr>\n",
       "      <th>21</th>\n",
       "      <td>2018-09-27 04:52:00</td>\n",
       "      <td>1</td>\n",
       "      <td>41.415217</td>\n",
       "      <td>2.204912</td>\n",
       "      <td>100.0</td>\n",
       "      <td>scooter</td>\n",
       "      <td>0.000000</td>\n",
       "      <td>0.000000</td>\n",
       "    </tr>\n",
       "    <tr>\n",
       "      <th>632</th>\n",
       "      <td>2018-09-27 04:57:00</td>\n",
       "      <td>1</td>\n",
       "      <td>41.415217</td>\n",
       "      <td>2.204912</td>\n",
       "      <td>100.0</td>\n",
       "      <td>scooter</td>\n",
       "      <td>0.000000</td>\n",
       "      <td>0.000000</td>\n",
       "    </tr>\n",
       "    <tr>\n",
       "      <th>1269</th>\n",
       "      <td>2018-09-27 05:02:00</td>\n",
       "      <td>1</td>\n",
       "      <td>41.415150</td>\n",
       "      <td>2.204998</td>\n",
       "      <td>100.0</td>\n",
       "      <td>scooter</td>\n",
       "      <td>-0.000067</td>\n",
       "      <td>0.000087</td>\n",
       "    </tr>\n",
       "    <tr>\n",
       "      <th>1892</th>\n",
       "      <td>2018-09-27 05:07:00</td>\n",
       "      <td>1</td>\n",
       "      <td>41.415150</td>\n",
       "      <td>2.204998</td>\n",
       "      <td>100.0</td>\n",
       "      <td>scooter</td>\n",
       "      <td>0.000000</td>\n",
       "      <td>0.000000</td>\n",
       "    </tr>\n",
       "    <tr>\n",
       "      <th>2520</th>\n",
       "      <td>2018-09-27 05:12:00</td>\n",
       "      <td>1</td>\n",
       "      <td>41.415150</td>\n",
       "      <td>2.204998</td>\n",
       "      <td>100.0</td>\n",
       "      <td>scooter</td>\n",
       "      <td>0.000000</td>\n",
       "      <td>0.000000</td>\n",
       "    </tr>\n",
       "  </tbody>\n",
       "</table>\n",
       "</div>"
      ],
      "text/plain": [
       "                     date  id        lat       lon  charge     type  lat_diff  \\\n",
       "21    2018-09-27 04:52:00   1  41.415217  2.204912   100.0  scooter  0.000000   \n",
       "632   2018-09-27 04:57:00   1  41.415217  2.204912   100.0  scooter  0.000000   \n",
       "1269  2018-09-27 05:02:00   1  41.415150  2.204998   100.0  scooter -0.000067   \n",
       "1892  2018-09-27 05:07:00   1  41.415150  2.204998   100.0  scooter  0.000000   \n",
       "2520  2018-09-27 05:12:00   1  41.415150  2.204998   100.0  scooter  0.000000   \n",
       "\n",
       "      lon_diff  \n",
       "21    0.000000  \n",
       "632   0.000000  \n",
       "1269  0.000087  \n",
       "1892  0.000000  \n",
       "2520  0.000000  "
      ]
     },
     "execution_count": 14,
     "metadata": {},
     "output_type": "execute_result"
    }
   ],
   "source": [
    "#biketest = bike1\n",
    "diff_lat = dftest['lat'] - dftest['lat'].shift(1)\n",
    "\n",
    "diff_lon = dftest['lon'] - dftest['lon'].shift(1)\n",
    "\n",
    "\n",
    "dftest['lat_diff'] = diff_lat\n",
    "dftest['lon_diff'] = diff_lon\n",
    "\n",
    "# We Fill NaN values resulting from the shift\n",
    "dftest.fillna(value=0, inplace=True)\n",
    "dftest.head()"
   ]
  },
  {
   "cell_type": "markdown",
   "metadata": {},
   "source": [
    "### Finding number of rides based on Geodata\n",
    "\n",
    "We are trying to estimate the number of rides taken by each bike, we will filter out those rows where the latitude or longitude changed substantially from the previous row (aka position change in the timeframe of 5 mins)\n",
    "\n",
    "In order to do that we need to find a threshold of latitude and longitude variation as we can get slightly different geoposition lectures from bikes that are currently parked and not moving.\n",
    " \n",
    "#### Degrees - meters conversion table\n",
    "\n",
    "| degrees [º] | distance [m]  |\n",
    "|-------------|---------------|\n",
    "| 0.01        | 1110          |\n",
    "| 0.001       | 111           |\n",
    "| 0.0001      | 11.1          |\n",
    "| 0.00001     | 1.11          |\n",
    "\n",
    "#### Estimations\n",
    "\n",
    "Mean GPS error on open sky has been said by ION and the US government to be between 4.9 and 5 meters. \n",
    "\n",
    "However we must take into consideration the vast amount of interferences a GPS device is under in an urban environment like Barcelona. \n",
    "Following the study by the University of Applied Sciences Zittau, Germany a positional error of 28 meters should be assumed in any location-based application. \n",
    "\n",
    "#### Threshold\n",
    "\n",
    "28 meters = 0.000252º\n",
    "\n",
    "#### References\n",
    "- [Institute of Navigation](https://www.ion.org/publications/abstract.cfm?articleID=13079)\n",
    "- [Official U.S. Government Global Positioning System Information](https://www.gps.gov/systems/gps/performance/accuracy/)\n",
    "- [Field trial on GPS Accuracy in a medium size city: The influence of built-up, University of Applied Sciences Zittau/Görlitz, Germany](http://wpnc.net/fileadmin/WPNC06/Proceedings/30_Field_trial_on_GPS_Accuracy_in_a_medium_size_city_The_influence_of_builtup.pdf)\n",
    "\n"
   ]
  },
  {
   "cell_type": "markdown",
   "metadata": {},
   "source": [
    "#### Find number of rides lasting 1 timeframe (5mins)"
   ]
  },
  {
   "cell_type": "code",
   "execution_count": 15,
   "metadata": {},
   "outputs": [
    {
     "name": "stdout",
     "output_type": "stream",
     "text": [
      "The number of rides is:  64351\n"
     ]
    }
   ],
   "source": [
    "moves_t = diff_lat[((abs(dftest['lat_diff']) > 0.000252) | (abs(dftest['lon_diff']) > 0.000252) ) ].count()\n",
    "print ('The number of rides is: ',moves_t)"
   ]
  },
  {
   "cell_type": "markdown",
   "metadata": {},
   "source": [
    "#### Shift() method fixing. \n",
    "\n",
    "Shift function creates a false positive with the first row of every new bike_id or plate number. \n",
    "We fix it by counting every row where the difference between the two rows (regular vs shift row) is greater than our threshold as well as the bike_id/plate is the same as the shifted row. \n"
   ]
  },
  {
   "cell_type": "code",
   "execution_count": 19,
   "metadata": {},
   "outputs": [
    {
     "name": "stdout",
     "output_type": "stream",
     "text": [
      "The  number of 5mins rides is:  63414\n"
     ]
    }
   ],
   "source": [
    "moves_1t = dftest[((abs(dftest['lat_diff']) > 0.000252) | (abs(dftest['lon_diff']) > 0.000252) ) & (dftest['id'] == dftest['id'].shift(1) )].count()\n",
    "print ('The  number of 5mins rides is: ', moves_1t[0])\n",
    "#movesdf = dftest[(abs(dftest['lat_diff']) > 0.000252) & (dftest['plate'] == dftest['plate'].shift(1) )]"
   ]
  },
  {
   "cell_type": "markdown",
   "metadata": {},
   "source": [
    "#### Calculate rides 2 timeframes (10mins) long"
   ]
  },
  {
   "cell_type": "code",
   "execution_count": 21,
   "metadata": {},
   "outputs": [
    {
     "name": "stdout",
     "output_type": "stream",
     "text": [
      "The  number of 10mins rides is:  1438\n"
     ]
    }
   ],
   "source": [
    "moves_2t = dftest[((abs(dftest['lat_diff']) > 0.000252) | (abs(dftest['lon_diff']) > 0.000252) ) & (dftest['lat_diff'].shift(1)> 0.000252)  & (dftest['id'] == dftest['id'].shift(1))].count()\n",
    "print('The  number of 10mins rides is: ',moves_2t[0])"
   ]
  },
  {
   "cell_type": "markdown",
   "metadata": {},
   "source": [
    "#### Calculate rides 3 timeframes (15mins) long"
   ]
  },
  {
   "cell_type": "code",
   "execution_count": 22,
   "metadata": {},
   "outputs": [
    {
     "name": "stdout",
     "output_type": "stream",
     "text": [
      "The  number of 15mins rides is:  73\n"
     ]
    }
   ],
   "source": [
    "moves_3t = dftest[((abs(dftest['lat_diff']) > 0.000252) | (abs(dftest['lon_diff']) > 0.000252) ) & (dftest['lat_diff'].shift(1)> 0.000252)& (dftest['lat_diff'].shift(2)> 0.000252) & (dftest['id'] == dftest['id'].shift(1))].count()\n",
    "print('The  number of 15mins rides is: ',moves_3t[0])"
   ]
  },
  {
   "cell_type": "markdown",
   "metadata": {},
   "source": [
    "#### Calculate rides 4 timeframes (20mins) long"
   ]
  },
  {
   "cell_type": "code",
   "execution_count": 24,
   "metadata": {},
   "outputs": [
    {
     "name": "stdout",
     "output_type": "stream",
     "text": [
      "The  number of 20mins rides:  8\n"
     ]
    }
   ],
   "source": [
    "moves_4t = dftest[((abs(dftest['lat_diff']) > 0.000252) | (abs(dftest['lon_diff']) > 0.000252) ) & (dftest['lat_diff'].shift(1)> 0.000252)& (dftest['lat_diff'].shift(2)> 0.000252) & (dftest['lat_diff'].shift(3)> 0.000252)  & (dftest['id'] == dftest['id'].shift(1))].count()\n",
    "print('The  number of 20mins rides: ',moves_4t[0])"
   ]
  },
  {
   "cell_type": "markdown",
   "metadata": {},
   "source": [
    "### Plotting estimate revenue + average minute ride"
   ]
  },
  {
   "cell_type": "code",
   "execution_count": 26,
   "metadata": {},
   "outputs": [
    {
     "data": {
      "text/plain": [
       "<matplotlib.axes._subplots.AxesSubplot at 0x10dfa8438>"
      ]
     },
     "execution_count": 26,
     "metadata": {},
     "output_type": "execute_result"
    },
    {
     "data": {
      "image/png": "[encoded data removed]",
      "text/plain": [
       "<Figure size 432x288 with 1 Axes>"
      ]
     },
     "metadata": {},
     "output_type": "display_data"
    }
   ],
   "source": [
    "dfminutes = pd.DataFrame({'5-10 mins': [moves_1t[0]], '10-15 mins': [moves_2t[0]],'15-20 mins': [moves_3t[0]],'20+ mins': [moves_4t[0]], })\n",
    "dfminutes = dfminutes[['5-10 mins', '10-15 mins', '15-20 mins', '20+ mins']].transpose()\n",
    "dfminutes.plot(kind='bar', title=' Time Frequency of rides ', legend=False)\n",
    "#ADD SCATTER REVENUE /CANDLESTICK MAX MIN MINUTES\n",
    "#dfminutes.plot()"
   ]
  },
  {
   "cell_type": "markdown",
   "metadata": {},
   "source": [
    "### Frequency and Timespan\n",
    "We convert our date/time string into a Pandas datetime Timestamp"
   ]
  },
  {
   "cell_type": "code",
   "execution_count": 27,
   "metadata": {
    "scrolled": true
   },
   "outputs": [
    {
     "data": {
      "text/html": [
       "<div>\n",
       "<style scoped>\n",
       "    .dataframe tbody tr th:only-of-type {\n",
       "        vertical-align: middle;\n",
       "    }\n",
       "\n",
       "    .dataframe tbody tr th {\n",
       "        vertical-align: top;\n",
       "    }\n",
       "\n",
       "    .dataframe thead th {\n",
       "        text-align: right;\n",
       "    }\n",
       "</style>\n",
       "<table border=\"1\" class=\"dataframe\">\n",
       "  <thead>\n",
       "    <tr style=\"text-align: right;\">\n",
       "      <th></th>\n",
       "      <th>date</th>\n",
       "      <th>id</th>\n",
       "      <th>lat</th>\n",
       "      <th>lon</th>\n",
       "      <th>charge</th>\n",
       "      <th>type</th>\n",
       "      <th>lat_diff</th>\n",
       "      <th>lon_diff</th>\n",
       "      <th>datetime</th>\n",
       "    </tr>\n",
       "  </thead>\n",
       "  <tbody>\n",
       "    <tr>\n",
       "      <th>21</th>\n",
       "      <td>2018-09-27 04:52:00</td>\n",
       "      <td>1</td>\n",
       "      <td>41.415217</td>\n",
       "      <td>2.204912</td>\n",
       "      <td>100.0</td>\n",
       "      <td>scooter</td>\n",
       "      <td>0.000000</td>\n",
       "      <td>0.000000</td>\n",
       "      <td>2018-09-27 04:52:00</td>\n",
       "    </tr>\n",
       "    <tr>\n",
       "      <th>632</th>\n",
       "      <td>2018-09-27 04:57:00</td>\n",
       "      <td>1</td>\n",
       "      <td>41.415217</td>\n",
       "      <td>2.204912</td>\n",
       "      <td>100.0</td>\n",
       "      <td>scooter</td>\n",
       "      <td>0.000000</td>\n",
       "      <td>0.000000</td>\n",
       "      <td>2018-09-27 04:57:00</td>\n",
       "    </tr>\n",
       "    <tr>\n",
       "      <th>1269</th>\n",
       "      <td>2018-09-27 05:02:00</td>\n",
       "      <td>1</td>\n",
       "      <td>41.415150</td>\n",
       "      <td>2.204998</td>\n",
       "      <td>100.0</td>\n",
       "      <td>scooter</td>\n",
       "      <td>-0.000067</td>\n",
       "      <td>0.000087</td>\n",
       "      <td>2018-09-27 05:02:00</td>\n",
       "    </tr>\n",
       "    <tr>\n",
       "      <th>1892</th>\n",
       "      <td>2018-09-27 05:07:00</td>\n",
       "      <td>1</td>\n",
       "      <td>41.415150</td>\n",
       "      <td>2.204998</td>\n",
       "      <td>100.0</td>\n",
       "      <td>scooter</td>\n",
       "      <td>0.000000</td>\n",
       "      <td>0.000000</td>\n",
       "      <td>2018-09-27 05:07:00</td>\n",
       "    </tr>\n",
       "    <tr>\n",
       "      <th>2520</th>\n",
       "      <td>2018-09-27 05:12:00</td>\n",
       "      <td>1</td>\n",
       "      <td>41.415150</td>\n",
       "      <td>2.204998</td>\n",
       "      <td>100.0</td>\n",
       "      <td>scooter</td>\n",
       "      <td>0.000000</td>\n",
       "      <td>0.000000</td>\n",
       "      <td>2018-09-27 05:12:00</td>\n",
       "    </tr>\n",
       "  </tbody>\n",
       "</table>\n",
       "</div>"
      ],
      "text/plain": [
       "                     date  id        lat       lon  charge     type  lat_diff  \\\n",
       "21    2018-09-27 04:52:00   1  41.415217  2.204912   100.0  scooter  0.000000   \n",
       "632   2018-09-27 04:57:00   1  41.415217  2.204912   100.0  scooter  0.000000   \n",
       "1269  2018-09-27 05:02:00   1  41.415150  2.204998   100.0  scooter -0.000067   \n",
       "1892  2018-09-27 05:07:00   1  41.415150  2.204998   100.0  scooter  0.000000   \n",
       "2520  2018-09-27 05:12:00   1  41.415150  2.204998   100.0  scooter  0.000000   \n",
       "\n",
       "      lon_diff            datetime  \n",
       "21    0.000000 2018-09-27 04:52:00  \n",
       "632   0.000000 2018-09-27 04:57:00  \n",
       "1269  0.000087 2018-09-27 05:02:00  \n",
       "1892  0.000000 2018-09-27 05:07:00  \n",
       "2520  0.000000 2018-09-27 05:12:00  "
      ]
     },
     "execution_count": 27,
     "metadata": {},
     "output_type": "execute_result"
    }
   ],
   "source": [
    "dftest['datetime'] = pd.to_datetime(dftest['date'])\n",
    "dftest.head()"
   ]
  },
  {
   "cell_type": "code",
   "execution_count": 28,
   "metadata": {},
   "outputs": [
    {
     "name": "stdout",
     "output_type": "stream",
     "text": [
      "Data from  6 days 12:21:00\n"
     ]
    }
   ],
   "source": [
    "print('Data from ',dftest['datetime'][len(dftest)-1] - dftest['datetime'][34])"
   ]
  },
  {
   "cell_type": "markdown",
   "metadata": {},
   "source": [
    "We then create a new dataframe only containing the rows representing each ride."
   ]
  },
  {
   "cell_type": "code",
   "execution_count": 30,
   "metadata": {},
   "outputs": [],
   "source": [
    "dfrides = dftest[((abs(dftest['lat_diff']) > 0.000252) | (abs(dftest['lon_diff']) > 0.000252) ) & (dftest['id'] == dftest['id'].shift(1) )]"
   ]
  },
  {
   "cell_type": "markdown",
   "metadata": {},
   "source": [
    "We add a day of the week column to our rides datframe for further analysis"
   ]
  },
  {
   "cell_type": "code",
   "execution_count": 31,
   "metadata": {},
   "outputs": [
    {
     "name": "stderr",
     "output_type": "stream",
     "text": [
      "/anaconda3/lib/python3.5/site-packages/ipykernel_launcher.py:1: SettingWithCopyWarning: \n",
      "A value is trying to be set on a copy of a slice from a DataFrame.\n",
      "Try using .loc[row_indexer,col_indexer] = value instead\n",
      "\n",
      "See the caveats in the documentation: http://pandas.pydata.org/pandas-docs/stable/indexing.html#indexing-view-versus-copy\n",
      "  \"\"\"Entry point for launching an IPython kernel.\n"
     ]
    }
   ],
   "source": [
    "dfrides['dayofweek'] = dfrides['datetime'].dt.day_name()"
   ]
  },
  {
   "cell_type": "code",
   "execution_count": 32,
   "metadata": {
    "scrolled": true
   },
   "outputs": [
    {
     "data": {
      "text/html": [
       "<div>\n",
       "<style scoped>\n",
       "    .dataframe tbody tr th:only-of-type {\n",
       "        vertical-align: middle;\n",
       "    }\n",
       "\n",
       "    .dataframe tbody tr th {\n",
       "        vertical-align: top;\n",
       "    }\n",
       "\n",
       "    .dataframe thead th {\n",
       "        text-align: right;\n",
       "    }\n",
       "</style>\n",
       "<table border=\"1\" class=\"dataframe\">\n",
       "  <thead>\n",
       "    <tr style=\"text-align: right;\">\n",
       "      <th></th>\n",
       "      <th>date</th>\n",
       "      <th>id</th>\n",
       "      <th>lat</th>\n",
       "      <th>lon</th>\n",
       "      <th>charge</th>\n",
       "      <th>type</th>\n",
       "      <th>lat_diff</th>\n",
       "      <th>lon_diff</th>\n",
       "      <th>datetime</th>\n",
       "      <th>dayofweek</th>\n",
       "    </tr>\n",
       "  </thead>\n",
       "  <tbody>\n",
       "    <tr>\n",
       "      <th>11887</th>\n",
       "      <td>2018-09-27 06:33:00</td>\n",
       "      <td>1</td>\n",
       "      <td>41.415385</td>\n",
       "      <td>2.204975</td>\n",
       "      <td>100.00</td>\n",
       "      <td>scooter</td>\n",
       "      <td>0.000287</td>\n",
       "      <td>-0.000027</td>\n",
       "      <td>2018-09-27 06:33:00</td>\n",
       "      <td>Thursday</td>\n",
       "    </tr>\n",
       "    <tr>\n",
       "      <th>22284</th>\n",
       "      <td>2018-09-27 08:09:00</td>\n",
       "      <td>1</td>\n",
       "      <td>41.406522</td>\n",
       "      <td>2.194113</td>\n",
       "      <td>98.61</td>\n",
       "      <td>scooter</td>\n",
       "      <td>-0.008785</td>\n",
       "      <td>-0.010943</td>\n",
       "      <td>2018-09-27 08:09:00</td>\n",
       "      <td>Thursday</td>\n",
       "    </tr>\n",
       "    <tr>\n",
       "      <th>25293</th>\n",
       "      <td>2018-09-27 08:35:00</td>\n",
       "      <td>1</td>\n",
       "      <td>41.416180</td>\n",
       "      <td>2.206153</td>\n",
       "      <td>95.83</td>\n",
       "      <td>scooter</td>\n",
       "      <td>0.009657</td>\n",
       "      <td>0.012047</td>\n",
       "      <td>2018-09-27 08:35:00</td>\n",
       "      <td>Thursday</td>\n",
       "    </tr>\n",
       "    <tr>\n",
       "      <th>40402</th>\n",
       "      <td>2018-09-27 10:41:00</td>\n",
       "      <td>1</td>\n",
       "      <td>41.416348</td>\n",
       "      <td>2.206160</td>\n",
       "      <td>95.83</td>\n",
       "      <td>scooter</td>\n",
       "      <td>0.000270</td>\n",
       "      <td>0.000015</td>\n",
       "      <td>2018-09-27 10:41:00</td>\n",
       "      <td>Thursday</td>\n",
       "    </tr>\n",
       "    <tr>\n",
       "      <th>65860</th>\n",
       "      <td>2018-09-27 14:24:00</td>\n",
       "      <td>1</td>\n",
       "      <td>41.388733</td>\n",
       "      <td>2.172113</td>\n",
       "      <td>87.50</td>\n",
       "      <td>scooter</td>\n",
       "      <td>-0.027448</td>\n",
       "      <td>-0.033883</td>\n",
       "      <td>2018-09-27 14:24:00</td>\n",
       "      <td>Thursday</td>\n",
       "    </tr>\n",
       "  </tbody>\n",
       "</table>\n",
       "</div>"
      ],
      "text/plain": [
       "                      date  id        lat       lon  charge     type  \\\n",
       "11887  2018-09-27 06:33:00   1  41.415385  2.204975  100.00  scooter   \n",
       "22284  2018-09-27 08:09:00   1  41.406522  2.194113   98.61  scooter   \n",
       "25293  2018-09-27 08:35:00   1  41.416180  2.206153   95.83  scooter   \n",
       "40402  2018-09-27 10:41:00   1  41.416348  2.206160   95.83  scooter   \n",
       "65860  2018-09-27 14:24:00   1  41.388733  2.172113   87.50  scooter   \n",
       "\n",
       "       lat_diff  lon_diff            datetime dayofweek  \n",
       "11887  0.000287 -0.000027 2018-09-27 06:33:00  Thursday  \n",
       "22284 -0.008785 -0.010943 2018-09-27 08:09:00  Thursday  \n",
       "25293  0.009657  0.012047 2018-09-27 08:35:00  Thursday  \n",
       "40402  0.000270  0.000015 2018-09-27 10:41:00  Thursday  \n",
       "65860 -0.027448 -0.033883 2018-09-27 14:24:00  Thursday  "
      ]
     },
     "execution_count": 32,
     "metadata": {},
     "output_type": "execute_result"
    }
   ],
   "source": [
    "dfrides.head()"
   ]
  },
  {
   "cell_type": "markdown",
   "metadata": {},
   "source": [
    "#### Hourly Rides"
   ]
  },
  {
   "cell_type": "code",
   "execution_count": 33,
   "metadata": {},
   "outputs": [
    {
     "data": {
      "image/png": "[encoded data removed]",
      "text/plain": [
       "<Figure size 432x288 with 1 Axes>"
      ]
     },
     "metadata": {},
     "output_type": "display_data"
    }
   ],
   "source": [
    "hourly = dfrides['datetime'].dt.hour.value_counts().sort_index().plot(kind='bar', title='Hourly frequency of 5 minute Rides ')"
   ]
  },
  {
   "cell_type": "code",
   "execution_count": null,
   "metadata": {},
   "outputs": [],
   "source": []
  },
  {
   "cell_type": "markdown",
   "metadata": {},
   "source": [
    "#### Weekly Rides"
   ]
  },
  {
   "cell_type": "code",
   "execution_count": 34,
   "metadata": {},
   "outputs": [],
   "source": [
    "weekly = dfrides['dayofweek'].value_counts(sort=False)\n"
   ]
  },
  {
   "cell_type": "code",
   "execution_count": 35,
   "metadata": {},
   "outputs": [
    {
     "data": {
      "text/plain": [
       "<matplotlib.axes._subplots.AxesSubplot at 0x10e4333c8>"
      ]
     },
     "execution_count": 35,
     "metadata": {},
     "output_type": "execute_result"
    },
    {
     "data": {
      "image/png": "[encoded data removed]",
      "text/plain": [
       "<Figure size 432x288 with 1 Axes>"
      ]
     },
     "metadata": {},
     "output_type": "display_data"
    }
   ],
   "source": [
    "weekly =weekly.reindex(['Monday', 'Tuesday', 'Wednesday', 'Thursday', 'Friday', 'Saturday', 'Sunday'])\n",
    "weekly.plot(kind='bar', title='Weekly frequency of 5 minute Rides ')"
   ]
  },
  {
   "cell_type": "code",
   "execution_count": null,
   "metadata": {},
   "outputs": [],
   "source": []
  },
  {
   "cell_type": "code",
   "execution_count": null,
   "metadata": {},
   "outputs": [],
   "source": []
  }
 ],
 "metadata": {
  "kernelspec": {
   "display_name": "Python 3",
   "language": "python",
   "name": "python3"
  },
  "language_info": {
   "codemirror_mode": {
    "name": "ipython",
    "version": 3
   },
   "file_extension": ".py",
   "mimetype": "text/x-python",
   "name": "python",
   "nbconvert_exporter": "python",
   "pygments_lexer": "ipython3",
   "version": "3.5.5"
  },
  "widgets": {
   "state": {},
   "version": "1.1.2"
  }
 },
 "nbformat": 4,
 "nbformat_minor": 2
}
