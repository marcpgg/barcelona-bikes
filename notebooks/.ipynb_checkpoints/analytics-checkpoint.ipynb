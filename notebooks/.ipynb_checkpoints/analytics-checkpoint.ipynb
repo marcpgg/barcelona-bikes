{
 "cells": [
  {
   "cell_type": "code",
   "execution_count": 1,
   "metadata": {},
   "outputs": [],
   "source": [
    "import pandas as pd\n",
    "import numpy as np\n",
    "import json\n",
    "import os\n",
    "import matplotlib.pyplot as plt  \n",
    "from pylab import plt\n",
    "plt.style.use('ggplot')\n",
    "\n",
    "%matplotlib inline\n",
    "\n"
   ]
  },
  {
   "cell_type": "markdown",
   "metadata": {},
   "source": [
    "### Reading data and sorting\n",
    "\n",
    "We read our csv and sort by platenumber/bike_id and then by date."
   ]
  },
  {
   "cell_type": "code",
   "execution_count": 2,
   "metadata": {},
   "outputs": [],
   "source": [
    "path = '../../ebikes/data/datatest/final/muving_data1.csv'\n",
    "df = pd.read_csv(path)\n",
    "\n"
   ]
  },
  {
   "cell_type": "code",
   "execution_count": 3,
   "metadata": {},
   "outputs": [],
   "source": [
    "df= df.sort_values(['plate','date'], ascending=[True,True]) "
   ]
  },
  {
   "cell_type": "code",
   "execution_count": 4,
   "metadata": {},
   "outputs": [],
   "source": [
    "#We'll be working on a copy of the dataframe\n",
    "dftest = df"
   ]
  },
  {
   "cell_type": "markdown",
   "metadata": {},
   "source": [
    "#### Verifying Number of bikes\n"
   ]
  },
  {
   "cell_type": "code",
   "execution_count": 17,
   "metadata": {},
   "outputs": [
    {
     "data": {
      "text/plain": [
       "319"
      ]
     },
     "execution_count": 17,
     "metadata": {},
     "output_type": "execute_result"
    }
   ],
   "source": [
    "dftest['plate'].nunique()"
   ]
  },
  {
   "cell_type": "code",
   "execution_count": null,
   "metadata": {},
   "outputs": [],
   "source": [
    "dftest.describe()"
   ]
  },
  {
   "cell_type": "code",
   "execution_count": 5,
   "metadata": {},
   "outputs": [
    {
     "data": {
      "text/html": [
       "<div>\n",
       "<style scoped>\n",
       "    .dataframe tbody tr th:only-of-type {\n",
       "        vertical-align: middle;\n",
       "    }\n",
       "\n",
       "    .dataframe tbody tr th {\n",
       "        vertical-align: top;\n",
       "    }\n",
       "\n",
       "    .dataframe thead th {\n",
       "        text-align: right;\n",
       "    }\n",
       "</style>\n",
       "<table border=\"1\" class=\"dataframe\">\n",
       "  <thead>\n",
       "    <tr style=\"text-align: right;\">\n",
       "      <th></th>\n",
       "      <th>date</th>\n",
       "      <th>plate</th>\n",
       "      <th>lat</th>\n",
       "      <th>lon</th>\n",
       "      <th>charge</th>\n",
       "    </tr>\n",
       "  </thead>\n",
       "  <tbody>\n",
       "    <tr>\n",
       "      <th>34</th>\n",
       "      <td>2018-09-13 14:21:26</td>\n",
       "      <td>8965KGR Scooter 125-B</td>\n",
       "      <td>41.384125</td>\n",
       "      <td>2.158233</td>\n",
       "      <td>22</td>\n",
       "    </tr>\n",
       "    <tr>\n",
       "      <th>413</th>\n",
       "      <td>2018-09-13 14:32:17</td>\n",
       "      <td>8965KGR Scooter 125-B</td>\n",
       "      <td>41.384125</td>\n",
       "      <td>2.158233</td>\n",
       "      <td>22</td>\n",
       "    </tr>\n",
       "    <tr>\n",
       "      <th>528</th>\n",
       "      <td>2018-09-13 14:43:07</td>\n",
       "      <td>8965KGR Scooter 125-B</td>\n",
       "      <td>41.384125</td>\n",
       "      <td>2.158233</td>\n",
       "      <td>22</td>\n",
       "    </tr>\n",
       "    <tr>\n",
       "      <th>689</th>\n",
       "      <td>2018-09-13 14:53:59</td>\n",
       "      <td>8965KGR Scooter 125-B</td>\n",
       "      <td>41.384125</td>\n",
       "      <td>2.158233</td>\n",
       "      <td>22</td>\n",
       "    </tr>\n",
       "    <tr>\n",
       "      <th>1032</th>\n",
       "      <td>2018-09-13 15:04:49</td>\n",
       "      <td>8965KGR Scooter 125-B</td>\n",
       "      <td>41.384125</td>\n",
       "      <td>2.158233</td>\n",
       "      <td>22</td>\n",
       "    </tr>\n",
       "  </tbody>\n",
       "</table>\n",
       "</div>"
      ],
      "text/plain": [
       "                     date                   plate        lat       lon  charge\n",
       "34    2018-09-13 14:21:26   8965KGR Scooter 125-B  41.384125  2.158233      22\n",
       "413   2018-09-13 14:32:17   8965KGR Scooter 125-B  41.384125  2.158233      22\n",
       "528   2018-09-13 14:43:07   8965KGR Scooter 125-B  41.384125  2.158233      22\n",
       "689   2018-09-13 14:53:59   8965KGR Scooter 125-B  41.384125  2.158233      22\n",
       "1032  2018-09-13 15:04:49   8965KGR Scooter 125-B  41.384125  2.158233      22"
      ]
     },
     "execution_count": 5,
     "metadata": {},
     "output_type": "execute_result"
    }
   ],
   "source": [
    "dftest.head()"
   ]
  },
  {
   "cell_type": "markdown",
   "metadata": {},
   "source": [
    "### Export clean data to CARTO\n",
    "\n",
    "We create a new dataframe (bike1) to store only relevant data for exporting and visualizing in CARTO."
   ]
  },
  {
   "cell_type": "code",
   "execution_count": null,
   "metadata": {},
   "outputs": [],
   "source": [
    "bike_carto = df.loc[:, ['date', 'lat', 'lon', 'plate']]"
   ]
  },
  {
   "cell_type": "code",
   "execution_count": null,
   "metadata": {},
   "outputs": [],
   "source": [
    "bike_carto.head()"
   ]
  },
  {
   "cell_type": "code",
   "execution_count": null,
   "metadata": {},
   "outputs": [],
   "source": [
    "bike_carto.to_csv('../../ebikes/data/datatest/final/bikes_carto.csv')"
   ]
  },
  {
   "cell_type": "markdown",
   "metadata": {},
   "source": [
    "## Analysis \n",
    "### Latitude/Longitude Delta\n",
    "\n",
    "Adding two new columns to our dataframe with the latitude and longitude variation from previous timeframe with the shift method. We then fill the NaN values with 0 .\n",
    "\n"
   ]
  },
  {
   "cell_type": "code",
   "execution_count": 10,
   "metadata": {},
   "outputs": [
    {
     "data": {
      "text/html": [
       "<div>\n",
       "<style scoped>\n",
       "    .dataframe tbody tr th:only-of-type {\n",
       "        vertical-align: middle;\n",
       "    }\n",
       "\n",
       "    .dataframe tbody tr th {\n",
       "        vertical-align: top;\n",
       "    }\n",
       "\n",
       "    .dataframe thead th {\n",
       "        text-align: right;\n",
       "    }\n",
       "</style>\n",
       "<table border=\"1\" class=\"dataframe\">\n",
       "  <thead>\n",
       "    <tr style=\"text-align: right;\">\n",
       "      <th></th>\n",
       "      <th>date</th>\n",
       "      <th>plate</th>\n",
       "      <th>lat</th>\n",
       "      <th>lon</th>\n",
       "      <th>charge</th>\n",
       "      <th>lat_diff</th>\n",
       "      <th>lon_diff</th>\n",
       "    </tr>\n",
       "  </thead>\n",
       "  <tbody>\n",
       "    <tr>\n",
       "      <th>34</th>\n",
       "      <td>2018-09-13 14:21:26</td>\n",
       "      <td>8965KGR Scooter 125-B</td>\n",
       "      <td>41.384125</td>\n",
       "      <td>2.158233</td>\n",
       "      <td>22</td>\n",
       "      <td>0.0</td>\n",
       "      <td>0.0</td>\n",
       "    </tr>\n",
       "    <tr>\n",
       "      <th>413</th>\n",
       "      <td>2018-09-13 14:32:17</td>\n",
       "      <td>8965KGR Scooter 125-B</td>\n",
       "      <td>41.384125</td>\n",
       "      <td>2.158233</td>\n",
       "      <td>22</td>\n",
       "      <td>0.0</td>\n",
       "      <td>0.0</td>\n",
       "    </tr>\n",
       "    <tr>\n",
       "      <th>528</th>\n",
       "      <td>2018-09-13 14:43:07</td>\n",
       "      <td>8965KGR Scooter 125-B</td>\n",
       "      <td>41.384125</td>\n",
       "      <td>2.158233</td>\n",
       "      <td>22</td>\n",
       "      <td>0.0</td>\n",
       "      <td>0.0</td>\n",
       "    </tr>\n",
       "    <tr>\n",
       "      <th>689</th>\n",
       "      <td>2018-09-13 14:53:59</td>\n",
       "      <td>8965KGR Scooter 125-B</td>\n",
       "      <td>41.384125</td>\n",
       "      <td>2.158233</td>\n",
       "      <td>22</td>\n",
       "      <td>0.0</td>\n",
       "      <td>0.0</td>\n",
       "    </tr>\n",
       "    <tr>\n",
       "      <th>1032</th>\n",
       "      <td>2018-09-13 15:04:49</td>\n",
       "      <td>8965KGR Scooter 125-B</td>\n",
       "      <td>41.384125</td>\n",
       "      <td>2.158233</td>\n",
       "      <td>22</td>\n",
       "      <td>0.0</td>\n",
       "      <td>0.0</td>\n",
       "    </tr>\n",
       "  </tbody>\n",
       "</table>\n",
       "</div>"
      ],
      "text/plain": [
       "                     date                   plate        lat       lon  \\\n",
       "34    2018-09-13 14:21:26   8965KGR Scooter 125-B  41.384125  2.158233   \n",
       "413   2018-09-13 14:32:17   8965KGR Scooter 125-B  41.384125  2.158233   \n",
       "528   2018-09-13 14:43:07   8965KGR Scooter 125-B  41.384125  2.158233   \n",
       "689   2018-09-13 14:53:59   8965KGR Scooter 125-B  41.384125  2.158233   \n",
       "1032  2018-09-13 15:04:49   8965KGR Scooter 125-B  41.384125  2.158233   \n",
       "\n",
       "      charge  lat_diff  lon_diff  \n",
       "34        22       0.0       0.0  \n",
       "413       22       0.0       0.0  \n",
       "528       22       0.0       0.0  \n",
       "689       22       0.0       0.0  \n",
       "1032      22       0.0       0.0  "
      ]
     },
     "execution_count": 10,
     "metadata": {},
     "output_type": "execute_result"
    }
   ],
   "source": [
    "#biketest = bike1\n",
    "diff_lat = dftest['lat'] - dftest['lat'].shift(1)\n",
    "\n",
    "diff_lon = dftest['lon'] - dftest['lon'].shift(1)\n",
    "\n",
    "\n",
    "dftest['lat_diff'] = diff_lat\n",
    "dftest['lon_diff'] = diff_lon\n",
    "\n",
    "# We Fill NaN values resulting from the shift\n",
    "dftest.fillna(value=0, inplace=True)\n",
    "dftest.head()"
   ]
  },
  {
   "cell_type": "markdown",
   "metadata": {},
   "source": [
    "### Finding number of rides based on Geodata\n",
    "\n",
    "We are trying to estimate the number of rides taken by each bike, we will filter out those rows where the latitude or longitude changed substantially from the previous row (aka position change in the timeframe of 5 mins)\n",
    "\n",
    "In order to do that we need to find a threshold of latitude and longitude variation as we can get slightly different geoposition lectures from bikes that are currently parked and not moving.\n",
    " \n",
    "#### Degrees - meters conversion table\n",
    "\n",
    "| degrees [º] | distance [m]  |\n",
    "|-------------|---------------|\n",
    "| 0.01        | 1110          |\n",
    "| 0.001       | 111           |\n",
    "| 0.0001      | 11.1          |\n",
    "| 0.00001     | 1.11          |\n",
    "\n",
    "#### Estimations\n",
    "\n",
    "Mean GPS error on open sky has been said by ION and the US government to be between 4.9 and 5 meters. \n",
    "\n",
    "However we must take into consideration the vast amount of interferences a GPS device is under in an urban environment like Barcelona. \n",
    "Following the study by the University of Applied Sciences Zittau, Germany a positional error of 28 meters should be assumed in any location-based application. \n",
    "\n",
    "#### Threshold\n",
    "\n",
    "28 meters = 0.000252º\n",
    "\n",
    "#### References\n",
    "- [Institute of Navigation](https://www.ion.org/publications/abstract.cfm?articleID=13079)\n",
    "- [Official U.S. Government Global Positioning System Information](https://www.gps.gov/systems/gps/performance/accuracy/)\n",
    "- [Field trial on GPS Accuracy in a medium size city: The influence of built-up, University of Applied Sciences Zittau/Görlitz, Germany](http://wpnc.net/fileadmin/WPNC06/Proceedings/30_Field_trial_on_GPS_Accuracy_in_a_medium_size_city_The_influence_of_builtup.pdf)\n",
    "\n"
   ]
  },
  {
   "cell_type": "markdown",
   "metadata": {},
   "source": [
    "#### Find number of rides lasting 1 timeframe (5mins)"
   ]
  },
  {
   "cell_type": "code",
   "execution_count": 221,
   "metadata": {},
   "outputs": [
    {
     "name": "stdout",
     "output_type": "stream",
     "text": [
      "The number of rides is:  2948\n"
     ]
    }
   ],
   "source": [
    "moves_t = diff_lat[((abs(dftest['lat_diff']) > 0.000252) | (abs(dftest['lon_diff']) > 0.000252) ) ].count()\n",
    "print ('The number of rides is: ',moves_t)"
   ]
  },
  {
   "cell_type": "markdown",
   "metadata": {},
   "source": [
    "#### Shift() method fixing. \n",
    "\n",
    "Shift function creates a false positive with the first row of every new bike_id or plate number. \n",
    "We fix it by counting every row where the difference between the two rows (regular vs shift row) is greater than our threshold as well as the bike_id/plate is the same as the shifted row. \n"
   ]
  },
  {
   "cell_type": "code",
   "execution_count": 228,
   "metadata": {},
   "outputs": [
    {
     "name": "stdout",
     "output_type": "stream",
     "text": [
      "The  number of 5mins rides is:  2630\n"
     ]
    }
   ],
   "source": [
    "moves_1t = dftest[((abs(dftest['lat_diff']) > 0.000252) | (abs(dftest['lon_diff']) > 0.000252) ) & (dftest['plate'] == dftest['plate'].shift(1) )].count()\n",
    "print ('The  number of 5mins rides is: ', moves_1t[0])\n",
    "#movesdf = dftest[(abs(dftest['lat_diff']) > 0.000252) & (dftest['plate'] == dftest['plate'].shift(1) )]"
   ]
  },
  {
   "cell_type": "markdown",
   "metadata": {},
   "source": [
    "#### Calculate rides 2 timeframes (10mins) long"
   ]
  },
  {
   "cell_type": "code",
   "execution_count": 64,
   "metadata": {},
   "outputs": [
    {
     "name": "stdout",
     "output_type": "stream",
     "text": [
      "The  number of 10mins rides is:  174\n"
     ]
    }
   ],
   "source": [
    "moves_2t = dftest[((abs(dftest['lat_diff']) > 0.000252) | (abs(dftest['lon_diff']) > 0.000252) ) & (dftest['lat_diff'].shift(1)> 0.000252)  & (dftest['plate'] == dftest['plate'].shift(1))].count()\n",
    "print('The  number of 10mins rides is: ',moves_2t[0])"
   ]
  },
  {
   "cell_type": "markdown",
   "metadata": {},
   "source": [
    "#### Calculate rides 3 timeframes (15mins) long"
   ]
  },
  {
   "cell_type": "code",
   "execution_count": 65,
   "metadata": {},
   "outputs": [
    {
     "name": "stdout",
     "output_type": "stream",
     "text": [
      "The  number of 15mins rides is:  6\n"
     ]
    }
   ],
   "source": [
    "moves_3t = dftest[((abs(dftest['lat_diff']) > 0.000252) | (abs(dftest['lon_diff']) > 0.000252) ) & (dftest['lat_diff'].shift(1)> 0.000252)& (dftest['lat_diff'].shift(2)> 0.000252) & (dftest['plate'] == dftest['plate'].shift(1))].count()\n",
    "print('The  number of 15mins rides is: ',moves_3t[0])"
   ]
  },
  {
   "cell_type": "markdown",
   "metadata": {},
   "source": [
    "#### Calculate rides 4 timeframes (20mins) long"
   ]
  },
  {
   "cell_type": "code",
   "execution_count": 66,
   "metadata": {},
   "outputs": [
    {
     "name": "stdout",
     "output_type": "stream",
     "text": [
      "The  number of 20mins rides:  0\n"
     ]
    }
   ],
   "source": [
    "moves_4t = dftest[((abs(dftest['lat_diff']) > 0.000252) | (abs(dftest['lon_diff']) > 0.000252) ) & (dftest['lat_diff'].shift(1)> 0.000252)& (dftest['lat_diff'].shift(2)> 0.000252) & (dftest['lat_diff'].shift(3)> 0.000252)  & (dftest['plate'] == dftest['plate'].shift(1))].count()\n",
    "print('The  number of 20mins rides: ',moves_4t[0])"
   ]
  },
  {
   "cell_type": "markdown",
   "metadata": {},
   "source": [
    "### Plotting estimate revenue + average minute ride"
   ]
  },
  {
   "cell_type": "code",
   "execution_count": 240,
   "metadata": {},
   "outputs": [
    {
     "data": {
      "text/plain": [
       "<matplotlib.axes._subplots.AxesSubplot at 0x125c4fc50>"
      ]
     },
     "execution_count": 240,
     "metadata": {},
     "output_type": "execute_result"
    },
    {
     "data": {
      "image/png": "[encoded data removed]",
      "text/plain": [
       "<Figure size 432x288 with 1 Axes>"
      ]
     },
     "metadata": {},
     "output_type": "display_data"
    }
   ],
   "source": [
    "dfminutes = pd.DataFrame({'5': [moves_1t[0]], '10': [moves_2t[0]],'15': [moves_3t[0]],'20': [moves_4t[0]], })\n",
    "dfminutes = dfminutes[['5', '10', '15', '20']].transpose()\n",
    "dfminutes.plot(kind='bar', title=' Time Frequency of rides ', legend=False)\n",
    "#ADD SCATTER REVENUE /CANDLESTICK MAX MIN MINUTES\n",
    "dfminutes.plot()"
   ]
  },
  {
   "cell_type": "markdown",
   "metadata": {},
   "source": [
    "### Frequency and Timespan\n",
    "We convert our date/time string into a Pandas datetime Timestamp"
   ]
  },
  {
   "cell_type": "code",
   "execution_count": 39,
   "metadata": {
    "scrolled": true
   },
   "outputs": [
    {
     "data": {
      "text/html": [
       "<div>\n",
       "<style scoped>\n",
       "    .dataframe tbody tr th:only-of-type {\n",
       "        vertical-align: middle;\n",
       "    }\n",
       "\n",
       "    .dataframe tbody tr th {\n",
       "        vertical-align: top;\n",
       "    }\n",
       "\n",
       "    .dataframe thead th {\n",
       "        text-align: right;\n",
       "    }\n",
       "</style>\n",
       "<table border=\"1\" class=\"dataframe\">\n",
       "  <thead>\n",
       "    <tr style=\"text-align: right;\">\n",
       "      <th></th>\n",
       "      <th>date</th>\n",
       "      <th>plate</th>\n",
       "      <th>lat</th>\n",
       "      <th>lon</th>\n",
       "      <th>charge</th>\n",
       "      <th>lat_diff</th>\n",
       "      <th>lon_diff</th>\n",
       "      <th>datetime</th>\n",
       "    </tr>\n",
       "  </thead>\n",
       "  <tbody>\n",
       "    <tr>\n",
       "      <th>34</th>\n",
       "      <td>2018-09-13 14:21:26</td>\n",
       "      <td>8965KGR Scooter 125-B</td>\n",
       "      <td>41.384125</td>\n",
       "      <td>2.158233</td>\n",
       "      <td>22</td>\n",
       "      <td>0.0</td>\n",
       "      <td>0.0</td>\n",
       "      <td>2018-09-13 14:21:26</td>\n",
       "    </tr>\n",
       "    <tr>\n",
       "      <th>413</th>\n",
       "      <td>2018-09-13 14:32:17</td>\n",
       "      <td>8965KGR Scooter 125-B</td>\n",
       "      <td>41.384125</td>\n",
       "      <td>2.158233</td>\n",
       "      <td>22</td>\n",
       "      <td>0.0</td>\n",
       "      <td>0.0</td>\n",
       "      <td>2018-09-13 14:32:17</td>\n",
       "    </tr>\n",
       "    <tr>\n",
       "      <th>528</th>\n",
       "      <td>2018-09-13 14:43:07</td>\n",
       "      <td>8965KGR Scooter 125-B</td>\n",
       "      <td>41.384125</td>\n",
       "      <td>2.158233</td>\n",
       "      <td>22</td>\n",
       "      <td>0.0</td>\n",
       "      <td>0.0</td>\n",
       "      <td>2018-09-13 14:43:07</td>\n",
       "    </tr>\n",
       "    <tr>\n",
       "      <th>689</th>\n",
       "      <td>2018-09-13 14:53:59</td>\n",
       "      <td>8965KGR Scooter 125-B</td>\n",
       "      <td>41.384125</td>\n",
       "      <td>2.158233</td>\n",
       "      <td>22</td>\n",
       "      <td>0.0</td>\n",
       "      <td>0.0</td>\n",
       "      <td>2018-09-13 14:53:59</td>\n",
       "    </tr>\n",
       "    <tr>\n",
       "      <th>1032</th>\n",
       "      <td>2018-09-13 15:04:49</td>\n",
       "      <td>8965KGR Scooter 125-B</td>\n",
       "      <td>41.384125</td>\n",
       "      <td>2.158233</td>\n",
       "      <td>22</td>\n",
       "      <td>0.0</td>\n",
       "      <td>0.0</td>\n",
       "      <td>2018-09-13 15:04:49</td>\n",
       "    </tr>\n",
       "  </tbody>\n",
       "</table>\n",
       "</div>"
      ],
      "text/plain": [
       "                     date                   plate        lat       lon  \\\n",
       "34    2018-09-13 14:21:26   8965KGR Scooter 125-B  41.384125  2.158233   \n",
       "413   2018-09-13 14:32:17   8965KGR Scooter 125-B  41.384125  2.158233   \n",
       "528   2018-09-13 14:43:07   8965KGR Scooter 125-B  41.384125  2.158233   \n",
       "689   2018-09-13 14:53:59   8965KGR Scooter 125-B  41.384125  2.158233   \n",
       "1032  2018-09-13 15:04:49   8965KGR Scooter 125-B  41.384125  2.158233   \n",
       "\n",
       "      charge  lat_diff  lon_diff            datetime  \n",
       "34        22       0.0       0.0 2018-09-13 14:21:26  \n",
       "413       22       0.0       0.0 2018-09-13 14:32:17  \n",
       "528       22       0.0       0.0 2018-09-13 14:43:07  \n",
       "689       22       0.0       0.0 2018-09-13 14:53:59  \n",
       "1032      22       0.0       0.0 2018-09-13 15:04:49  "
      ]
     },
     "execution_count": 39,
     "metadata": {},
     "output_type": "execute_result"
    }
   ],
   "source": [
    "dftest['datetime'] = pd.to_datetime(dftest['date'])\n",
    "dftest.head()"
   ]
  },
  {
   "cell_type": "code",
   "execution_count": 62,
   "metadata": {},
   "outputs": [
    {
     "name": "stdout",
     "output_type": "stream",
     "text": [
      "Data from  7 days 10:31:47\n"
     ]
    }
   ],
   "source": [
    "print('Data from ',dftest['datetime'][len(dftest)-1] - dftest['datetime'][34])"
   ]
  },
  {
   "cell_type": "markdown",
   "metadata": {},
   "source": [
    "We then create a new dataframe only containing the rows representing each ride."
   ]
  },
  {
   "cell_type": "code",
   "execution_count": 67,
   "metadata": {},
   "outputs": [],
   "source": [
    "dfrides = dftest[((abs(dftest['lat_diff']) > 0.000252) | (abs(dftest['lon_diff']) > 0.000252) ) & (dftest['plate'] == dftest['plate'].shift(1) )]"
   ]
  },
  {
   "cell_type": "code",
   "execution_count": 77,
   "metadata": {
    "scrolled": false
   },
   "outputs": [
    {
     "data": {
      "text/html": [
       "<div>\n",
       "<style scoped>\n",
       "    .dataframe tbody tr th:only-of-type {\n",
       "        vertical-align: middle;\n",
       "    }\n",
       "\n",
       "    .dataframe tbody tr th {\n",
       "        vertical-align: top;\n",
       "    }\n",
       "\n",
       "    .dataframe thead th {\n",
       "        text-align: right;\n",
       "    }\n",
       "</style>\n",
       "<table border=\"1\" class=\"dataframe\">\n",
       "  <thead>\n",
       "    <tr style=\"text-align: right;\">\n",
       "      <th></th>\n",
       "      <th>date</th>\n",
       "      <th>plate</th>\n",
       "      <th>lat</th>\n",
       "      <th>lon</th>\n",
       "      <th>charge</th>\n",
       "      <th>lat_diff</th>\n",
       "      <th>lon_diff</th>\n",
       "      <th>datetime</th>\n",
       "    </tr>\n",
       "  </thead>\n",
       "  <tbody>\n",
       "    <tr>\n",
       "      <th>2987</th>\n",
       "      <td>2018-09-13 16:52:52</td>\n",
       "      <td>8965KGR Scooter 125-B</td>\n",
       "      <td>41.394823</td>\n",
       "      <td>2.137761</td>\n",
       "      <td>17</td>\n",
       "      <td>0.010698</td>\n",
       "      <td>-0.020472</td>\n",
       "      <td>2018-09-13 16:52:52</td>\n",
       "    </tr>\n",
       "    <tr>\n",
       "      <th>11989</th>\n",
       "      <td>2018-09-14 14:21:08</td>\n",
       "      <td>8965KGR Scooter 125-B</td>\n",
       "      <td>41.398442</td>\n",
       "      <td>2.120745</td>\n",
       "      <td>68</td>\n",
       "      <td>0.003619</td>\n",
       "      <td>-0.017016</td>\n",
       "      <td>2018-09-14 14:21:08</td>\n",
       "    </tr>\n",
       "    <tr>\n",
       "      <th>15201</th>\n",
       "      <td>2018-09-14 17:44:28</td>\n",
       "      <td>8965KGR Scooter 125-B</td>\n",
       "      <td>41.395374</td>\n",
       "      <td>2.154238</td>\n",
       "      <td>60</td>\n",
       "      <td>-0.003068</td>\n",
       "      <td>0.033493</td>\n",
       "      <td>2018-09-14 17:44:28</td>\n",
       "    </tr>\n",
       "    <tr>\n",
       "      <th>23566</th>\n",
       "      <td>2018-09-17 22:06:32</td>\n",
       "      <td>8965KGR Scooter 125-B</td>\n",
       "      <td>41.419731</td>\n",
       "      <td>2.173016</td>\n",
       "      <td>94</td>\n",
       "      <td>0.024357</td>\n",
       "      <td>0.018778</td>\n",
       "      <td>2018-09-17 22:06:32</td>\n",
       "    </tr>\n",
       "    <tr>\n",
       "      <th>26896</th>\n",
       "      <td>2018-09-19 16:47:25</td>\n",
       "      <td>8965KGR Scooter 125-B</td>\n",
       "      <td>41.406077</td>\n",
       "      <td>2.211133</td>\n",
       "      <td>48</td>\n",
       "      <td>-0.013654</td>\n",
       "      <td>0.038117</td>\n",
       "      <td>2018-09-19 16:47:25</td>\n",
       "    </tr>\n",
       "  </tbody>\n",
       "</table>\n",
       "</div>"
      ],
      "text/plain": [
       "                      date                   plate        lat       lon  \\\n",
       "2987   2018-09-13 16:52:52   8965KGR Scooter 125-B  41.394823  2.137761   \n",
       "11989  2018-09-14 14:21:08   8965KGR Scooter 125-B  41.398442  2.120745   \n",
       "15201  2018-09-14 17:44:28   8965KGR Scooter 125-B  41.395374  2.154238   \n",
       "23566  2018-09-17 22:06:32   8965KGR Scooter 125-B  41.419731  2.173016   \n",
       "26896  2018-09-19 16:47:25   8965KGR Scooter 125-B  41.406077  2.211133   \n",
       "\n",
       "       charge  lat_diff  lon_diff            datetime  \n",
       "2987       17  0.010698 -0.020472 2018-09-13 16:52:52  \n",
       "11989      68  0.003619 -0.017016 2018-09-14 14:21:08  \n",
       "15201      60 -0.003068  0.033493 2018-09-14 17:44:28  \n",
       "23566      94  0.024357  0.018778 2018-09-17 22:06:32  \n",
       "26896      48 -0.013654  0.038117 2018-09-19 16:47:25  "
      ]
     },
     "execution_count": 77,
     "metadata": {},
     "output_type": "execute_result"
    }
   ],
   "source": [
    "dfrides.head()"
   ]
  },
  {
   "cell_type": "markdown",
   "metadata": {},
   "source": [
    "We add a day of the week column to our rides datframe for further analysis"
   ]
  },
  {
   "cell_type": "code",
   "execution_count": 226,
   "metadata": {},
   "outputs": [],
   "source": [
    "dfrides['dayofweek'] = dfrides['datetime'].dt.day_name()"
   ]
  },
  {
   "cell_type": "code",
   "execution_count": 227,
   "metadata": {
    "scrolled": true
   },
   "outputs": [
    {
     "data": {
      "text/html": [
       "<div>\n",
       "<style scoped>\n",
       "    .dataframe tbody tr th:only-of-type {\n",
       "        vertical-align: middle;\n",
       "    }\n",
       "\n",
       "    .dataframe tbody tr th {\n",
       "        vertical-align: top;\n",
       "    }\n",
       "\n",
       "    .dataframe thead th {\n",
       "        text-align: right;\n",
       "    }\n",
       "</style>\n",
       "<table border=\"1\" class=\"dataframe\">\n",
       "  <thead>\n",
       "    <tr style=\"text-align: right;\">\n",
       "      <th></th>\n",
       "      <th>date</th>\n",
       "      <th>plate</th>\n",
       "      <th>lat</th>\n",
       "      <th>lon</th>\n",
       "      <th>charge</th>\n",
       "      <th>lat_diff</th>\n",
       "      <th>lon_diff</th>\n",
       "      <th>datetime</th>\n",
       "      <th>dayofweek</th>\n",
       "    </tr>\n",
       "  </thead>\n",
       "  <tbody>\n",
       "    <tr>\n",
       "      <th>2987</th>\n",
       "      <td>2018-09-13 16:52:52</td>\n",
       "      <td>8965KGR Scooter 125-B</td>\n",
       "      <td>41.394823</td>\n",
       "      <td>2.137761</td>\n",
       "      <td>17</td>\n",
       "      <td>0.010698</td>\n",
       "      <td>-0.020472</td>\n",
       "      <td>2018-09-13 16:52:52</td>\n",
       "      <td>Thursday</td>\n",
       "    </tr>\n",
       "    <tr>\n",
       "      <th>11989</th>\n",
       "      <td>2018-09-14 14:21:08</td>\n",
       "      <td>8965KGR Scooter 125-B</td>\n",
       "      <td>41.398442</td>\n",
       "      <td>2.120745</td>\n",
       "      <td>68</td>\n",
       "      <td>0.003619</td>\n",
       "      <td>-0.017016</td>\n",
       "      <td>2018-09-14 14:21:08</td>\n",
       "      <td>Friday</td>\n",
       "    </tr>\n",
       "    <tr>\n",
       "      <th>15201</th>\n",
       "      <td>2018-09-14 17:44:28</td>\n",
       "      <td>8965KGR Scooter 125-B</td>\n",
       "      <td>41.395374</td>\n",
       "      <td>2.154238</td>\n",
       "      <td>60</td>\n",
       "      <td>-0.003068</td>\n",
       "      <td>0.033493</td>\n",
       "      <td>2018-09-14 17:44:28</td>\n",
       "      <td>Friday</td>\n",
       "    </tr>\n",
       "    <tr>\n",
       "      <th>23566</th>\n",
       "      <td>2018-09-17 22:06:32</td>\n",
       "      <td>8965KGR Scooter 125-B</td>\n",
       "      <td>41.419731</td>\n",
       "      <td>2.173016</td>\n",
       "      <td>94</td>\n",
       "      <td>0.024357</td>\n",
       "      <td>0.018778</td>\n",
       "      <td>2018-09-17 22:06:32</td>\n",
       "      <td>Monday</td>\n",
       "    </tr>\n",
       "    <tr>\n",
       "      <th>26896</th>\n",
       "      <td>2018-09-19 16:47:25</td>\n",
       "      <td>8965KGR Scooter 125-B</td>\n",
       "      <td>41.406077</td>\n",
       "      <td>2.211133</td>\n",
       "      <td>48</td>\n",
       "      <td>-0.013654</td>\n",
       "      <td>0.038117</td>\n",
       "      <td>2018-09-19 16:47:25</td>\n",
       "      <td>Wednesday</td>\n",
       "    </tr>\n",
       "  </tbody>\n",
       "</table>\n",
       "</div>"
      ],
      "text/plain": [
       "                      date                   plate        lat       lon  \\\n",
       "2987   2018-09-13 16:52:52   8965KGR Scooter 125-B  41.394823  2.137761   \n",
       "11989  2018-09-14 14:21:08   8965KGR Scooter 125-B  41.398442  2.120745   \n",
       "15201  2018-09-14 17:44:28   8965KGR Scooter 125-B  41.395374  2.154238   \n",
       "23566  2018-09-17 22:06:32   8965KGR Scooter 125-B  41.419731  2.173016   \n",
       "26896  2018-09-19 16:47:25   8965KGR Scooter 125-B  41.406077  2.211133   \n",
       "\n",
       "       charge  lat_diff  lon_diff            datetime  dayofweek  \n",
       "2987       17  0.010698 -0.020472 2018-09-13 16:52:52   Thursday  \n",
       "11989      68  0.003619 -0.017016 2018-09-14 14:21:08     Friday  \n",
       "15201      60 -0.003068  0.033493 2018-09-14 17:44:28     Friday  \n",
       "23566      94  0.024357  0.018778 2018-09-17 22:06:32     Monday  \n",
       "26896      48 -0.013654  0.038117 2018-09-19 16:47:25  Wednesday  "
      ]
     },
     "execution_count": 227,
     "metadata": {},
     "output_type": "execute_result"
    }
   ],
   "source": [
    "dfrides.head()"
   ]
  },
  {
   "cell_type": "markdown",
   "metadata": {},
   "source": [
    "#### Hourly Rides"
   ]
  },
  {
   "cell_type": "code",
   "execution_count": 219,
   "metadata": {},
   "outputs": [
    {
     "data": {
      "image/png": "[encoded data removed]",
      "text/plain": [
       "<Figure size 432x288 with 1 Axes>"
      ]
     },
     "metadata": {},
     "output_type": "display_data"
    }
   ],
   "source": [
    "hourly = dfrides['datetime'].dt.hour.value_counts().sort_index().plot(kind='bar', title='Hourly frequency of 5 minute Rides ')"
   ]
  },
  {
   "cell_type": "code",
   "execution_count": null,
   "metadata": {},
   "outputs": [],
   "source": []
  },
  {
   "cell_type": "markdown",
   "metadata": {},
   "source": [
    "#### Weekly Rides"
   ]
  },
  {
   "cell_type": "code",
   "execution_count": 196,
   "metadata": {},
   "outputs": [],
   "source": [
    "weekly = dfrides['dayofweek'].value_counts(sort=False)\n"
   ]
  },
  {
   "cell_type": "code",
   "execution_count": 198,
   "metadata": {},
   "outputs": [
    {
     "data": {
      "text/plain": [
       "<matplotlib.axes._subplots.AxesSubplot at 0x12539a4a8>"
      ]
     },
     "execution_count": 198,
     "metadata": {},
     "output_type": "execute_result"
    },
    {
     "data": {
      "image/png": "[encoded data removed]",
      "text/plain": [
       "<Figure size 432x288 with 1 Axes>"
      ]
     },
     "metadata": {},
     "output_type": "display_data"
    }
   ],
   "source": [
    "weekly =weekly.reindex(['Monday', 'Tuesday', 'Wednesday', 'Thursday', 'Friday',  'Sunday'])\n",
    "weekly.plot(kind='bar', title='Weekly frequency of 5 minute Rides ')"
   ]
  },
  {
   "cell_type": "markdown",
   "metadata": {},
   "source": [
    "## Plotting"
   ]
  },
  {
   "cell_type": "code",
   "execution_count": null,
   "metadata": {},
   "outputs": [],
   "source": []
  },
  {
   "cell_type": "code",
   "execution_count": null,
   "metadata": {},
   "outputs": [],
   "source": []
  }
 ],
 "metadata": {
  "kernelspec": {
   "display_name": "Python 3",
   "language": "python",
   "name": "python3"
  },
  "language_info": {
   "codemirror_mode": {
    "name": "ipython",
    "version": 3
   },
   "file_extension": ".py",
   "mimetype": "text/x-python",
   "name": "python",
   "nbconvert_exporter": "python",
   "pygments_lexer": "ipython3",
   "version": "3.5.5"
  },
  "widgets": {
   "state": {},
   "version": "1.1.2"
  }
 },
 "nbformat": 4,
 "nbformat_minor": 2
}
